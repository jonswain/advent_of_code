{
 "cells": [
  {
   "cell_type": "code",
   "execution_count": 194,
   "id": "5dc317d9",
   "metadata": {},
   "outputs": [],
   "source": [
    "day20 = open('inputs/day20.txt').read().split('\\n')"
   ]
  },
  {
   "cell_type": "code",
   "execution_count": 195,
   "id": "e113ca29",
   "metadata": {},
   "outputs": [
    {
     "name": "stdout",
     "output_type": "stream",
     "text": [
      "Part 1 answer: 5962\n"
     ]
    }
   ],
   "source": [
    "day20 = [int(x) for x in day20]\n",
    "indexes = list(range(0,len(day20)))\n",
    "\n",
    "for i, n in enumerate(day20):\n",
    "\n",
    "    current_location = indexes.index(i)\n",
    "    del indexes[current_location]\n",
    "    new_location = (current_location + n)%len(indexes)\n",
    "    if new_location == 0:\n",
    "        indexes.append(i)\n",
    "    else:\n",
    "        indexes.insert(new_location, i)\n",
    "\n",
    "answer = [day20[index] for index in indexes]\n",
    "\n",
    "zero_location = indexes.index(day20.index(0))\n",
    "first = zero_location + 1000\n",
    "second = zero_location + 2000\n",
    "third = zero_location + 3000\n",
    "\n",
    "answers = [answer[first%len(day20)], answer[second%len(day20)], answer[third%len(day20)]]\n",
    "print(f\"Part 1 answer: {sum(answers)}\")"
   ]
  },
  {
   "cell_type": "code",
   "execution_count": 196,
   "id": "a0c1cc09",
   "metadata": {},
   "outputs": [
    {
     "name": "stdout",
     "output_type": "stream",
     "text": [
      "Part 2 answer: 9862431387256\n"
     ]
    }
   ],
   "source": [
    "day20 = open('inputs/day20.txt').read().split('\\n')\n",
    "decription_key = 811589153\n",
    "\n",
    "day20 = [int(x) * decription_key for x in day20]\n",
    "indexes = list(range(0,len(day20)))\n",
    "\n",
    "for _ in range(10):\n",
    "    for i, n in enumerate(day20):\n",
    "\n",
    "        current_location = indexes.index(i)\n",
    "        del indexes[current_location]\n",
    "        new_location = (current_location + n)%len(indexes)\n",
    "        if new_location == 0:\n",
    "            indexes.append(i)\n",
    "        else:\n",
    "            indexes.insert(new_location, i)\n",
    "\n",
    "answer = [day20[index] for index in indexes]\n",
    "\n",
    "zero_location = indexes.index(day20.index(0))\n",
    "first = zero_location + 1000\n",
    "second = zero_location + 2000\n",
    "third = zero_location + 3000\n",
    "\n",
    "answers = [answer[first%len(day20)], answer[second%len(day20)], answer[third%len(day20)]]\n",
    "print(f\"Part 2 answer: {sum(answers)}\")"
   ]
  },
  {
   "cell_type": "code",
   "execution_count": null,
   "id": "8fa00ad0",
   "metadata": {},
   "outputs": [],
   "source": []
  }
 ],
 "metadata": {
  "kernelspec": {
   "display_name": "Python 3 (ipykernel)",
   "language": "python",
   "name": "python3"
  },
  "language_info": {
   "codemirror_mode": {
    "name": "ipython",
    "version": 3
   },
   "file_extension": ".py",
   "mimetype": "text/x-python",
   "name": "python",
   "nbconvert_exporter": "python",
   "pygments_lexer": "ipython3",
   "version": "3.10.6"
  }
 },
 "nbformat": 4,
 "nbformat_minor": 5
}
