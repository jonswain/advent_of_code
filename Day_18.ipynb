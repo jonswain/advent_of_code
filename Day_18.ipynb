{
 "cells": [
  {
   "cell_type": "code",
   "execution_count": 207,
   "id": "f3cb8d66",
   "metadata": {},
   "outputs": [],
   "source": [
    "day18 = (open('inputs/day18.txt').read().split())\n",
    "day18 = [coord.split(',') for coord in day18]\n",
    "day18 = [[int(x) for x in coords] for coords in day18]"
   ]
  },
  {
   "cell_type": "code",
   "execution_count": 208,
   "id": "24583dac",
   "metadata": {},
   "outputs": [
    {
     "name": "stdout",
     "output_type": "stream",
     "text": [
      "Part 1 answer: 4288\n"
     ]
    }
   ],
   "source": [
    "import numpy as np\n",
    "\n",
    "droplet = np.full((30,30,30),0)\n",
    "\n",
    "for x,y,z in day18:\n",
    "    droplet[x,y,z] = 1\n",
    "    \n",
    "import itertools\n",
    "\n",
    "x_range = range(0,30)\n",
    "y_range = range(0,30)\n",
    "z_range = range(0,30)\n",
    "\n",
    "surrounding = [(-1,0,0), (1,0,0), (0,1,0), (0,-1,0), (0,0,-1), (0,0,1)]\n",
    "surface = 0\n",
    "external = 0\n",
    "\n",
    "for (x,y,z) in itertools.product(*[x_range, y_range, z_range]):\n",
    "    if droplet[(x,y,z)] == 1:\n",
    "#         print((x,y,z))\n",
    "        for (xi,yi,zi) in surrounding:\n",
    "            new_x, new_y, new_z = x+xi, y+yi, z+zi\n",
    "            if (new_x >= 30) | (new_y >= 30) | (new_z >= 30):\n",
    "                pass\n",
    "            elif droplet[new_x, new_y, new_z] == 0:\n",
    "                surface += 1\n",
    "                \n",
    "print(f\"Part 1 answer: {surface}\")"
   ]
  },
  {
   "cell_type": "code",
   "execution_count": 209,
   "id": "d94e0bc8",
   "metadata": {},
   "outputs": [
    {
     "name": "stdout",
     "output_type": "stream",
     "text": [
      "Part 2 answer: 2494\n"
     ]
    }
   ],
   "source": [
    "droplet[0,0,0] = 2\n",
    "\n",
    "external = 0\n",
    "\n",
    "# Flood the outside with 2 and then count 2s\n",
    "for i in range(10):\n",
    "    for (x,y,z) in itertools.product(*[x_range, y_range, z_range]):\n",
    "        if droplet[(x,y,z)] == 2:\n",
    "            for (xi,yi,zi) in surrounding:\n",
    "                new_x, new_y, new_z = x+xi, y+yi, z+zi\n",
    "                if (new_x >= 30) | (new_y >= 30) | (new_z >= 30) | (new_x < 0) | (new_y < 0) | (new_z < 0):\n",
    "                    pass\n",
    "                elif droplet[new_x, new_y, new_z] == 0:\n",
    "                    droplet[new_x, new_y, new_z] = 2\n",
    "                \n",
    "for (x,y,z) in itertools.product(*[x_range, y_range, z_range]):\n",
    "    if droplet[(x,y,z)] == 1:\n",
    "        for (xi,yi,zi) in surrounding:\n",
    "            new_x, new_y, new_z = x+xi, y+yi, z+zi\n",
    "            if (new_x >= 30) | (new_y >= 30) | (new_z >= 30):\n",
    "                pass\n",
    "            elif droplet[new_x, new_y, new_z] == 2:\n",
    "                external += 1\n",
    "\n",
    "print(f\"Part 2 answer: {external}\")                  "
   ]
  },
  {
   "cell_type": "code",
   "execution_count": null,
   "id": "f2dd99a5",
   "metadata": {},
   "outputs": [],
   "source": []
  }
 ],
 "metadata": {
  "kernelspec": {
   "display_name": "Python 3 (ipykernel)",
   "language": "python",
   "name": "python3"
  },
  "language_info": {
   "codemirror_mode": {
    "name": "ipython",
    "version": 3
   },
   "file_extension": ".py",
   "mimetype": "text/x-python",
   "name": "python",
   "nbconvert_exporter": "python",
   "pygments_lexer": "ipython3",
   "version": "3.10.6"
  }
 },
 "nbformat": 4,
 "nbformat_minor": 5
}
