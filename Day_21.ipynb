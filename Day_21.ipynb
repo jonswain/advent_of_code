{
 "cells": [
  {
   "cell_type": "code",
   "execution_count": 1,
   "id": "11f5bf95",
   "metadata": {},
   "outputs": [],
   "source": [
    "day21 = \"\"\"root: pppw + sjmn\n",
    "dbpl: 5\n",
    "cczh: sllz + lgvd\n",
    "zczc: 2\n",
    "ptdq: humn - dvpt\n",
    "dvpt: 3\n",
    "lfqf: 4\n",
    "humn: 5\n",
    "ljgn: 2\n",
    "sjmn: drzm * dbpl\n",
    "sllz: 4\n",
    "pppw: cczh / lfqf\n",
    "lgvd: ljgn * ptdq\n",
    "drzm: hmdt - zczc\n",
    "hmdt: 32\"\"\"\n",
    "day21 = day21.split('\\n')"
   ]
  },
  {
   "cell_type": "code",
   "execution_count": 2,
   "id": "03fe486e",
   "metadata": {},
   "outputs": [],
   "source": [
    "day21 = (open('inputs/day21.txt').read().split('\\n'))"
   ]
  },
  {
   "cell_type": "code",
   "execution_count": 3,
   "id": "8fff4cbf",
   "metadata": {},
   "outputs": [],
   "source": [
    "monkey = {}\n",
    "\n",
    "for line in day21:\n",
    "    try: \n",
    "        monkey[line.split(':')[0]] = (int(line.split(':')[1].strip()))\n",
    "    except ValueError:\n",
    "        monkey[line.split(':')[0]] = (line.split(':')[1].strip())\n",
    "        \n",
    "while type(monkey[\"root\"]) != int:\n",
    "    for monk in monkey:\n",
    "        if type(monkey[monk]) == str:\n",
    "            equation = monkey[monk].split()\n",
    "            first = equation[0]\n",
    "            second = equation[2]\n",
    "\n",
    "            if (type(monkey[first]) == int) and (type(monkey[second]) == int):\n",
    "                if equation[1] == \"+\":\n",
    "                    new_value = monkey[first] + monkey[second]\n",
    "\n",
    "                elif equation[1] == \"-\":\n",
    "                    new_value = monkey[first] - monkey[second]\n",
    "\n",
    "                elif equation[1] == \"*\":\n",
    "                    new_value = monkey[first] * monkey[second]\n",
    "\n",
    "                else:\n",
    "                    new_value = int(monkey[first] / monkey[second])\n",
    "\n",
    "            else:\n",
    "                new_value = monkey[monk]\n",
    "\n",
    "            monkey[monk] = new_value\n",
    "\n",
    "print(f\"Part 1 answer: {monkey['root']}\")"
   ]
  },
  {
   "cell_type": "code",
   "execution_count": 61,
   "id": "7facac87",
   "metadata": {},
   "outputs": [
    {
     "name": "stdout",
     "output_type": "stream",
     "text": [
      "Part 2 answer: 3759569926192\n"
     ]
    }
   ],
   "source": [
    "monkey = {}\n",
    "\n",
    "for i in range(1000):\n",
    "    i = i + 3759569926000 # This number from a manual binary search\n",
    "    for line in day21:\n",
    "        try: \n",
    "            monkey[line.split(':')[0]] = (int(line.split(':')[1].strip()))\n",
    "        except ValueError:\n",
    "            monkey[line.split(':')[0]] = (line.split(':')[1].strip())\n",
    "\n",
    "    monkey['humn'] = i\n",
    "    del monkey['root']\n",
    "\n",
    "    while (type(monkey[\"jdqw\"]) != int) or (type(monkey[\"nrrs\"]) != int):\n",
    "        for monk in monkey:\n",
    "            if type(monkey[monk]) == str:\n",
    "                equation = monkey[monk].split()\n",
    "                first = equation[0]\n",
    "                second = equation[2]\n",
    "\n",
    "                if (type(monkey[first]) == int) and (type(monkey[second]) == int):\n",
    "                    if equation[1] == \"+\":\n",
    "                        new_value = monkey[first] + monkey[second]\n",
    "\n",
    "                    elif equation[1] == \"-\":\n",
    "                        new_value = monkey[first] - monkey[second]\n",
    "\n",
    "                    elif equation[1] == \"*\":\n",
    "                        new_value = monkey[first] * monkey[second]\n",
    "\n",
    "                    else:\n",
    "                        new_value = int(monkey[first] / monkey[second])\n",
    "\n",
    "                else:\n",
    "                    new_value = monkey[monk]\n",
    "\n",
    "                monkey[monk] = new_value\n",
    "    \n",
    "    if monkey[\"jdqw\"] == monkey[\"nrrs\"]:\n",
    "        print(f\"Part 2 answer: {i}\")\n",
    "        break\n"
   ]
  },
  {
   "cell_type": "code",
   "execution_count": null,
   "id": "e1e47418",
   "metadata": {},
   "outputs": [],
   "source": []
  }
 ],
 "metadata": {
  "kernelspec": {
   "display_name": "Python 3 (ipykernel)",
   "language": "python",
   "name": "python3"
  },
  "language_info": {
   "codemirror_mode": {
    "name": "ipython",
    "version": 3
   },
   "file_extension": ".py",
   "mimetype": "text/x-python",
   "name": "python",
   "nbconvert_exporter": "python",
   "pygments_lexer": "ipython3",
   "version": "3.10.6"
  }
 },
 "nbformat": 4,
 "nbformat_minor": 5
}
