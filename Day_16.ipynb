{
 "cells": [
  {
   "cell_type": "code",
   "execution_count": 1,
   "id": "c8bbd972",
   "metadata": {},
   "outputs": [],
   "source": [
    "valves = {}\n",
    "\n",
    "for line in open('inputs/day16.txt'):\n",
    "    line = line.strip().split()\n",
    "    flow = int((line[4].split('=')[1].strip(';')))\n",
    "    tunnels = [route.strip(',') for route in line[9:]]\n",
    "    valves[line[1]] = {\"flow_rate\":flow,\n",
    "                      \"leads_to\":tunnels}"
   ]
  },
  {
   "cell_type": "code",
   "execution_count": 2,
   "id": "9b8ca564",
   "metadata": {},
   "outputs": [],
   "source": [
    "worth_visiting = [valve for valve in valves if (valves[valve]['flow_rate'] > 0) or (valve == \"AA\")]"
   ]
  },
  {
   "cell_type": "code",
   "execution_count": 3,
   "id": "bfe4968c",
   "metadata": {},
   "outputs": [],
   "source": [
    "import itertools\n",
    "\n",
    "distances = []\n",
    "\n",
    "def dijkstras(start, finish):\n",
    "    main_list = [(start, 0)]\n",
    "    visited = [start]\n",
    "    time = 0\n",
    "\n",
    "    if start == finish:\n",
    "        return time\n",
    "    \n",
    "    for location, time in main_list:\n",
    "        time = time + 1\n",
    "        new_list = valves[location][\"leads_to\"]\n",
    "        for route in new_list:\n",
    "            if route in visited:\n",
    "                pass\n",
    "            else:\n",
    "                main_list.append((route, time))\n",
    "                visited.append(route)\n",
    "                if route == finish:\n",
    "                    return time\n",
    "    \n",
    "    return time\n",
    "\n",
    "\n",
    "for start, finish in itertools.product(worth_visiting, repeat=2):\n",
    "    distances.append((start, finish, dijkstras(start,finish)))\n"
   ]
  },
  {
   "cell_type": "code",
   "execution_count": 4,
   "id": "61a1e652",
   "metadata": {},
   "outputs": [],
   "source": [
    "axes = set([x[0] for x in distances])\n",
    "\n",
    "labels = {}\n",
    "\n",
    "for index, axis in enumerate(axes):\n",
    "    labels[axis] = index"
   ]
  },
  {
   "cell_type": "code",
   "execution_count": 5,
   "id": "02c7741f",
   "metadata": {},
   "outputs": [],
   "source": [
    "import numpy as np\n",
    "\n",
    "dist_matrix = np.full((len(axes),len(axes)), 0)\n",
    "\n",
    "for start, finish, dist in distances:\n",
    "    start = labels[start]\n",
    "    finish = labels[finish]\n",
    "    dist_matrix[start][finish] = dist\n",
    "    \n",
    "dist_matrix += 1"
   ]
  },
  {
   "cell_type": "code",
   "execution_count": 6,
   "id": "c20ce407",
   "metadata": {},
   "outputs": [],
   "source": [
    "path = ['AA']\n",
    "time = 0\n",
    "\n",
    "main_list = [(path, time)]\n",
    "\n",
    "to_check = []\n",
    "\n",
    "for path, time in main_list:\n",
    "    if time >= 30:\n",
    "        to_check.append((path[:-1], time))\n",
    "    else:\n",
    "\n",
    "        new_list = [x for x in list(axes) if x not in path]\n",
    "\n",
    "        for route in new_list:\n",
    "            new_time = time + int(dist_matrix[labels[path[-1]]][labels[route]])\n",
    "            new_path = path + [route]\n",
    "            main_list.append((new_path, new_time))"
   ]
  },
  {
   "cell_type": "code",
   "execution_count": 7,
   "id": "51f5cb90",
   "metadata": {},
   "outputs": [
    {
     "name": "stdout",
     "output_type": "stream",
     "text": [
      "Part 1 answer: 2119\n"
     ]
    }
   ],
   "source": [
    "pressures = []\n",
    "\n",
    "for route, time in to_check:\n",
    "    time = 30\n",
    "    pressure = 0\n",
    "    for index, location in enumerate(route[1:]):\n",
    "        start = (labels[route[index]])\n",
    "        finish = (labels[route[index+1]])\n",
    "        time -= dist_matrix[start][finish]\n",
    "        pressure += time * valves[location]['flow_rate']\n",
    "    pressures.append(pressure)\n",
    "    \n",
    "print(f\"Part 1 answer: {max(pressures)}\")"
   ]
  },
  {
   "cell_type": "code",
   "execution_count": 36,
   "id": "88d6903d",
   "metadata": {},
   "outputs": [
    {
     "name": "stdout",
     "output_type": "stream",
     "text": [
      "Part 2 answer: 2565\n"
     ]
    }
   ],
   "source": [
    "path = ['AA']\n",
    "time = 0\n",
    "\n",
    "main_list = [(path, time)]\n",
    "\n",
    "to_check = []\n",
    "\n",
    "for path, time in main_list:\n",
    "    if time >= 26:\n",
    "        to_check.append((path[:-1], time))\n",
    "    else:\n",
    "\n",
    "        new_list = [x for x in list(axes) if x not in path]\n",
    "\n",
    "        for route in new_list:\n",
    "            new_time = time + int(dist_matrix[labels[path[-1]]][labels[route]])\n",
    "            new_path = path + [route]\n",
    "            main_list.append((new_path, new_time))\n",
    "            \n",
    "pressures = []\n",
    "\n",
    "for route, time in to_check:\n",
    "    time = 26\n",
    "    pressure = 0\n",
    "    for index, location in enumerate(route[1:]):\n",
    "        start = (labels[route[index]])\n",
    "        finish = (labels[route[index+1]])\n",
    "        time -= dist_matrix[start][finish]\n",
    "        pressure += time * valves[location]['flow_rate']\n",
    "    pressures.append(pressure)\n",
    "    \n",
    "pressure_1 = max(pressures)\n",
    "route_1 = to_check[pressures.index(max(pressures))][0][:-1]\n",
    "\n",
    "part_2_check = []\n",
    "first_route_set = set(route_1[1:])\n",
    "\n",
    "for route in to_check:\n",
    "    if len(first_route_set.intersection(set(route[0]))) == 0:\n",
    "        part_2_check.append(route)\n",
    "        \n",
    "pressures = []\n",
    "\n",
    "for route, time in part_2_check:\n",
    "    time = 26\n",
    "    pressure = pressure_1\n",
    "    for index, location in enumerate(route[1:]):\n",
    "        start = (labels[route[index]])\n",
    "        finish = (labels[route[index+1]])\n",
    "        time -= dist_matrix[start][finish]\n",
    "        pressure += time * valves[location]['flow_rate']\n",
    "    pressures.append(pressure)\n",
    "    \n",
    "    \n",
    "# I don't know why this is wrong    \n",
    "print(f\"Part 2 answer: {max(pressures)}\")"
   ]
  },
  {
   "cell_type": "code",
   "execution_count": 38,
   "id": "657d102b",
   "metadata": {},
   "outputs": [
    {
     "name": "stdout",
     "output_type": "stream",
     "text": [
      "2565\n"
     ]
    }
   ],
   "source": [
    "path = ['AA']\n",
    "time = 0\n",
    "\n",
    "main_list = [(path, time)]\n",
    "\n",
    "to_check = []\n",
    "\n",
    "for path, time in main_list:\n",
    "    if time >= 26:\n",
    "        to_check.append((path[:-1], time))\n",
    "    else:\n",
    "\n",
    "        new_list = [x for x in list(axes) if x not in path]\n",
    "\n",
    "        for route in new_list:\n",
    "            new_time = time + int(dist_matrix[labels[path[-1]]][labels[route]])\n",
    "            new_path = path + [route]\n",
    "            main_list.append((new_path, new_time))\n",
    "            \n",
    "pressures = []\n",
    "\n",
    "for route, time in to_check:\n",
    "    time = 26\n",
    "    pressure = 0\n",
    "    for index, location in enumerate(route[1:]):\n",
    "        start = (labels[route[index]])\n",
    "        finish = (labels[route[index+1]])\n",
    "        time -= (dist_matrix[start][finish])\n",
    "        if route[index+1] not in route_1:\n",
    "            pressure += time * valves[location]['flow_rate']\n",
    "    pressures.append(pressure)\n",
    "    \n",
    "pressure_2 = max(pressures)\n",
    "print(pressure_2 + 1615)\n",
    "route_2 = to_check[pressures.index(max(pressures))][0][:-1]\n",
    "# Still wrong :'("
   ]
  },
  {
   "cell_type": "code",
   "execution_count": null,
   "id": "ceba481b",
   "metadata": {},
   "outputs": [],
   "source": []
  }
 ],
 "metadata": {
  "kernelspec": {
   "display_name": "Python 3 (ipykernel)",
   "language": "python",
   "name": "python3"
  },
  "language_info": {
   "codemirror_mode": {
    "name": "ipython",
    "version": 3
   },
   "file_extension": ".py",
   "mimetype": "text/x-python",
   "name": "python",
   "nbconvert_exporter": "python",
   "pygments_lexer": "ipython3",
   "version": "3.10.6"
  }
 },
 "nbformat": 4,
 "nbformat_minor": 5
}
