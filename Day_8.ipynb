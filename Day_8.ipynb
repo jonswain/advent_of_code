{
 "cells": [
  {
   "cell_type": "code",
   "execution_count": 5,
   "id": "4432ddec",
   "metadata": {},
   "outputs": [],
   "source": [
    "import numpy as np\n",
    "day8 = [line.strip() for line in open('inputs/day8.txt')]\n",
    "day8 = [list(line) for line in day8]\n",
    "day8 = np.array(day8)\n",
    "day8 = day8.astype(int)"
   ]
  },
  {
   "cell_type": "code",
   "execution_count": 6,
   "id": "cd271605",
   "metadata": {},
   "outputs": [
    {
     "name": "stdout",
     "output_type": "stream",
     "text": [
      "Part 1 answer: 1681\n"
     ]
    }
   ],
   "source": [
    "# Part 1\n",
    "visible_edges = 2*len(day8) + 2*len(day8[0]) - 4\n",
    "\n",
    "visible = visible_edges\n",
    "for y in range(1,len(day8)-1):\n",
    "    for x in range(1,len(day8[0])-1):\n",
    "        value = day8[y,x]\n",
    "        row = day8[y]\n",
    "        col = day8[:,x]\n",
    "        \n",
    "        if (value > max(row[:x])) or (value > max(row[x+1:])) or (value > max(col[:y])) or (value > max(col[y+1:])):\n",
    "            visible += 1\n",
    "\n",
    "print(f\"Part 1 answer: {visible}\")"
   ]
  },
  {
   "cell_type": "code",
   "execution_count": 7,
   "id": "f14ee3c6",
   "metadata": {},
   "outputs": [
    {
     "name": "stdout",
     "output_type": "stream",
     "text": [
      "Part 2 answer: 201684\n"
     ]
    }
   ],
   "source": [
    "# Part 2\n",
    "scores = []\n",
    "\n",
    "for y in range(1,len(day8)-1):\n",
    "    for x in range(1,len(day8[0])-1):\n",
    "        value = day8[y,x]\n",
    "        row = day8[y]\n",
    "        col = day8[:,x]\n",
    "        score1, score2, score3, score4 = 0, 0, 0, 0\n",
    "        \n",
    "        if value > max(row[:x]):\n",
    "            score1 += len(row[:x])\n",
    "        else:\n",
    "            for tree in row[:x][::-1]:\n",
    "                score1 += 1\n",
    "                if tree >= value:\n",
    "                    break\n",
    "                    \n",
    "        if value > max(row[x+1:]):\n",
    "            score2 += len(row[x+1:])\n",
    "        else:\n",
    "            for tree in row[x+1:]:\n",
    "                score2 += 1\n",
    "                if tree >= value:\n",
    "                    break\n",
    "\n",
    "        if value > max(col[:y]):\n",
    "            score3 += len(col[:y])\n",
    "        else:\n",
    "            for tree in col[:y][::-1]:\n",
    "                score3 += 1\n",
    "                if tree >= value:\n",
    "                    break\n",
    "                    \n",
    "        if value > max(col[y+1:]):\n",
    "            score4 += len(col[y+1:])\n",
    "        else:\n",
    "            for tree in col[y+1:]:\n",
    "                score4 += 1\n",
    "                if tree >= value:\n",
    "                    break\n",
    "        \n",
    "        total_score = score1*score2*score3*score4\n",
    "        scores.append(total_score)\n",
    "        \n",
    "print(f\"Part 2 answer: {max(scores)}\")"
   ]
  },
  {
   "cell_type": "code",
   "execution_count": null,
   "id": "694fa855",
   "metadata": {},
   "outputs": [],
   "source": []
  }
 ],
 "metadata": {
  "kernelspec": {
   "display_name": "Python 3 (ipykernel)",
   "language": "python",
   "name": "python3"
  },
  "language_info": {
   "codemirror_mode": {
    "name": "ipython",
    "version": 3
   },
   "file_extension": ".py",
   "mimetype": "text/x-python",
   "name": "python",
   "nbconvert_exporter": "python",
   "pygments_lexer": "ipython3",
   "version": "3.10.6"
  }
 },
 "nbformat": 4,
 "nbformat_minor": 5
}
