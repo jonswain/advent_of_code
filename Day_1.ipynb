{
 "cells": [
  {
   "cell_type": "code",
   "execution_count": 4,
   "id": "b4c600dd",
   "metadata": {},
   "outputs": [
    {
     "name": "stdout",
     "output_type": "stream",
     "text": [
      "Part 1 answer: 72602\n",
      "Part 2 answer: 207410\n"
     ]
    }
   ],
   "source": [
    "input_text = open('inputs/day1.txt', 'r').read()\n",
    "input_list = input_text.split('\\n\\n')\n",
    "elves = [line.split(\"\\n\") for line in input_list]\n",
    "elves = [list(map(int, elf)) for elf in elves]\n",
    "elves = [sum(elf) for elf in elves]\n",
    "print(f\"Part 1 answer: {max(elves)}\") \n",
    "print(f\"Part 2 answer: {sum(sorted(elves, key=int, reverse=True)[:3])}\")"
   ]
  },
  {
   "cell_type": "code",
   "execution_count": null,
   "id": "a7f66453",
   "metadata": {},
   "outputs": [],
   "source": []
  }
 ],
 "metadata": {
  "kernelspec": {
   "display_name": "Python 3 (ipykernel)",
   "language": "python",
   "name": "python3"
  },
  "language_info": {
   "codemirror_mode": {
    "name": "ipython",
    "version": 3
   },
   "file_extension": ".py",
   "mimetype": "text/x-python",
   "name": "python",
   "nbconvert_exporter": "python",
   "pygments_lexer": "ipython3",
   "version": "3.10.6"
  }
 },
 "nbformat": 4,
 "nbformat_minor": 5
}
