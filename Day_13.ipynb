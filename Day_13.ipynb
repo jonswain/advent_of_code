{
 "cells": [
  {
   "cell_type": "code",
   "execution_count": 170,
   "id": "4b8a3c00",
   "metadata": {},
   "outputs": [],
   "source": [
    "test_code = open('inputs/day13.txt').read()\n",
    "day13 = test_code.split('\\n\\n')"
   ]
  },
  {
   "cell_type": "code",
   "execution_count": 171,
   "id": "aaa4cacf",
   "metadata": {},
   "outputs": [],
   "source": [
    "def compare(l1, l2):\n",
    "    # If both ints\n",
    "    if isinstance(l1, int) and isinstance(l2, int):\n",
    "        if l1 < l2:\n",
    "            return 1\n",
    "        elif l1 > l2:\n",
    "            return 0\n",
    "        else:\n",
    "            return None\n",
    "        \n",
    "    # If both lists\n",
    "    if (isinstance(l1, list)) and (isinstance(l2, list)):\n",
    "        for e1, e2 in zip(l1, l2):\n",
    "            comparison = (compare(e1, e2))           # Compare elements pairwise\n",
    "            if comparison is not None:\n",
    "                return comparison\n",
    "        return compare(len(l1), len(l2))           # Check shortest list\n",
    "                \n",
    "    # If one list    \n",
    "    if isinstance(l1, int):\n",
    "        return compare([l1], l2)\n",
    "    return compare(l1, [l2])"
   ]
  },
  {
   "cell_type": "code",
   "execution_count": 173,
   "id": "46c655d8",
   "metadata": {},
   "outputs": [
    {
     "name": "stdout",
     "output_type": "stream",
     "text": [
      "\n",
      "Part 1 answer: 5330\n",
      "Part 2 answer: 27648\n"
     ]
    }
   ],
   "source": [
    "import ast\n",
    "\n",
    "indicies = 0    \n",
    "\n",
    "packet_1_position = 1\n",
    "packet_2_position = 2\n",
    "packet_1 = [[2]]\n",
    "packet_2 = [[6]]\n",
    "\n",
    "for index, pair in enumerate(day13):\n",
    "    \n",
    "    line_1, line_2 = pair.split('\\n')\n",
    "    \n",
    "    line_1 = ast.literal_eval(line_1)\n",
    "    line_2 = ast.literal_eval(line_2)\n",
    "\n",
    "    indicies += (compare(line_1, line_2))*(index+1)\n",
    "    \n",
    "    # Count number of lines below packets instead of ordering all packets\n",
    "    packet_1_position += (compare(line_1, packet_1)) + (compare(line_2, packet_1))\n",
    "    packet_2_position += (compare(line_1, packet_2)) + (compare(line_2, packet_2))\n",
    "\n",
    "print()\n",
    "print(f\"Part 1 answer: {indicies}\")\n",
    "print(f\"Part 2 answer: {packet_1_position*packet_2_position}\")\n",
    "    "
   ]
  },
  {
   "cell_type": "code",
   "execution_count": null,
   "id": "764edb3e",
   "metadata": {},
   "outputs": [],
   "source": []
  }
 ],
 "metadata": {
  "kernelspec": {
   "display_name": "Python 3 (ipykernel)",
   "language": "python",
   "name": "python3"
  },
  "language_info": {
   "codemirror_mode": {
    "name": "ipython",
    "version": 3
   },
   "file_extension": ".py",
   "mimetype": "text/x-python",
   "name": "python",
   "nbconvert_exporter": "python",
   "pygments_lexer": "ipython3",
   "version": "3.10.6"
  }
 },
 "nbformat": 4,
 "nbformat_minor": 5
}
