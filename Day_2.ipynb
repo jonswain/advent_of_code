{
 "cells": [
  {
   "cell_type": "code",
   "execution_count": 5,
   "id": "fe9c66e9",
   "metadata": {},
   "outputs": [],
   "source": [
    "task2 = [line.strip() for line in open('inputs/day2.txt')]"
   ]
  },
  {
   "cell_type": "code",
   "execution_count": 6,
   "id": "36d41eb4",
   "metadata": {},
   "outputs": [
    {
     "name": "stdout",
     "output_type": "stream",
     "text": [
      "Part 1 answer: 15523\n"
     ]
    }
   ],
   "source": [
    "score = 0\n",
    "for game_round in task2:\n",
    "    go = game_round.split()\n",
    "    if go[0] == \"A\":\n",
    "        if go[1] == \"X\":\n",
    "            score += 4\n",
    "        if go[1] == \"Y\":\n",
    "            score += 8\n",
    "        if go[1] == \"Z\":\n",
    "            score += 3\n",
    "    if go[0] == \"B\":\n",
    "        if go[1] == \"X\":\n",
    "            score += 1\n",
    "        if go[1] == \"Y\":\n",
    "            score += 5\n",
    "        if go[1] == \"Z\":\n",
    "            score += 9\n",
    "    if go[0] == \"C\":\n",
    "        if go[1] == \"X\":\n",
    "            score += 7\n",
    "        if go[1] == \"Y\":\n",
    "            score += 2\n",
    "        if go[1] == \"Z\":\n",
    "            score += 6\n",
    "    \n",
    "print(f\"Part 1 answer: {score}\")"
   ]
  },
  {
   "cell_type": "code",
   "execution_count": 7,
   "id": "3f5ff2be",
   "metadata": {},
   "outputs": [
    {
     "name": "stdout",
     "output_type": "stream",
     "text": [
      "Part 2 answer: 15702\n"
     ]
    }
   ],
   "source": [
    "score = 0\n",
    "for game_round in task2:\n",
    "    go = game_round.split()\n",
    "    if go[0] == \"A\":\n",
    "        if go[1] == \"X\":\n",
    "            score += 3\n",
    "        if go[1] == \"Y\":\n",
    "            score += 4\n",
    "        if go[1] == \"Z\":\n",
    "            score += 8\n",
    "    if go[0] == \"B\":\n",
    "        if go[1] == \"X\":\n",
    "            score += 1\n",
    "        if go[1] == \"Y\":\n",
    "            score += 5\n",
    "        if go[1] == \"Z\":\n",
    "            score += 9\n",
    "    if go[0] == \"C\":\n",
    "        if go[1] == \"X\":\n",
    "            score += 2\n",
    "        if go[1] == \"Y\":\n",
    "            score += 6\n",
    "        if go[1] == \"Z\":\n",
    "            score += 7\n",
    "    \n",
    "print(f\"Part 2 answer: {score}\")"
   ]
  },
  {
   "cell_type": "code",
   "execution_count": null,
   "id": "7883bb97",
   "metadata": {},
   "outputs": [],
   "source": []
  }
 ],
 "metadata": {
  "kernelspec": {
   "display_name": "Python 3 (ipykernel)",
   "language": "python",
   "name": "python3"
  },
  "language_info": {
   "codemirror_mode": {
    "name": "ipython",
    "version": 3
   },
   "file_extension": ".py",
   "mimetype": "text/x-python",
   "name": "python",
   "nbconvert_exporter": "python",
   "pygments_lexer": "ipython3",
   "version": "3.10.6"
  }
 },
 "nbformat": 4,
 "nbformat_minor": 5
}
