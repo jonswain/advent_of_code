{
 "cells": [
  {
   "cell_type": "code",
   "execution_count": 5,
   "id": "c1f13354",
   "metadata": {},
   "outputs": [],
   "source": [
    "day24 = \"\"\"#.######\n",
    "#>>.<^<#\n",
    "#.<..<<#\n",
    "#>v.><>#\n",
    "#<^v^^>#\n",
    "######.#\"\"\"\n",
    "\n",
    "day24 = (open('inputs/day24.txt').read())\n",
    "\n",
    "import numpy as np\n",
    "import itertools\n",
    "\n",
    "# Create map\n",
    "day24 = day24.split('\\n')\n",
    "day24 = [[x for x in line] for line in day24]\n",
    "day24 = np.array(day24)\n",
    "\n",
    "maps = []\n",
    "maps.append(day24)\n",
    "\n",
    "start_position = (0, 1)\n",
    "finish = (-1, -2)\n",
    "\n",
    "# Find storms\n",
    "storms = []\n",
    "\n",
    "for row, col in itertools.product(range(day24.shape[0]), range(day24.shape[1])):\n",
    "    if day24[row,col] == '>':\n",
    "        storms.append((row, col, '>'))\n",
    "    elif day24[row,col] == 'v':\n",
    "        storms.append((row, col, 'v'))\n",
    "    elif day24[row,col] == '<':\n",
    "        storms.append((row, col, '<'))\n",
    "    elif day24[row,col] == '^':\n",
    "        storms.append((row, col, '^'))\n",
    "\n",
    "# Create a map for each time point\n",
    "time_limit = 2000\n",
    "\n",
    "for i in range(time_limit+1):\n",
    "    # New map\n",
    "    day24_new = np.full([day24.shape[0]-2, day24.shape[1]-2], \".\")\n",
    "    day24_new = np.pad(day24_new, 1, constant_values=\"#\")\n",
    "    day24_new[start_position] = \"S\"\n",
    "    day24_new[finish] = \"F\"\n",
    "\n",
    "    new_storms = []\n",
    "\n",
    "    for row, col, direction in storms:\n",
    "        if direction == \">\":\n",
    "            col += 1\n",
    "            if col == day24.shape[1]-1:\n",
    "                col = 1        \n",
    "            new_storm = (row, col, direction)\n",
    "\n",
    "        elif direction == \"v\":\n",
    "            row += 1\n",
    "            if row == day24.shape[0]-1:\n",
    "                row = 1        \n",
    "            new_storm = (row, col, direction)\n",
    "\n",
    "        elif direction == \"<\":\n",
    "            col -= 1\n",
    "            if col == 0:\n",
    "                col = day24.shape[1]-2        \n",
    "            new_storm = (row, col, direction)\n",
    "\n",
    "        elif direction == \"^\":\n",
    "            row -= 1\n",
    "            if row == 0:\n",
    "                row = day24.shape[0]-2       \n",
    "            new_storm = (row, col, direction)\n",
    "\n",
    "        new_storms.append(new_storm)\n",
    "        day24_new[row, col] = direction\n",
    "        \n",
    "    maps.append(day24_new)\n",
    "    \n",
    "    storms = new_storms\n",
    "    day24 = day24_new"
   ]
  },
  {
   "cell_type": "code",
   "execution_count": 6,
   "id": "d0b168e4",
   "metadata": {},
   "outputs": [],
   "source": [
    "def find_routes(row, col, time, StartOrFinish):\n",
    "    routes = [(row, col, time)]\n",
    "    for row, col, time in routes:\n",
    "    \n",
    "        if (maps[time][row,col] == StartOrFinish):\n",
    "            return time\n",
    "            part_1_time = time\n",
    "            break\n",
    "        if (time > time_limit):\n",
    "            break\n",
    "\n",
    "        new_time = time + 1   \n",
    "\n",
    "        # Work out where can move to\n",
    "        new_positions = [(row+1, col),\n",
    "                         (row-1, col),\n",
    "                         (row, col+1),\n",
    "                         (row, col-1),\n",
    "                         (row, col)\n",
    "                        ]\n",
    "\n",
    "        for new_row, new_col in new_positions:    \n",
    "            # Check if free at next time point\n",
    "            if new_row < maps[1].shape[0]:\n",
    "                if (maps[new_time][new_row, new_col] in [\".\", \"S\", \"F\"]):\n",
    "                    if (new_row, new_col, new_time) not in routes:\n",
    "                        routes.append((new_row, new_col, new_time))"
   ]
  },
  {
   "cell_type": "code",
   "execution_count": 7,
   "id": "7ac45567",
   "metadata": {},
   "outputs": [
    {
     "name": "stdout",
     "output_type": "stream",
     "text": [
      "Part 1 answer: 225\n"
     ]
    }
   ],
   "source": [
    "print(f\"Part 1 answer: {find_routes(0,1,0,'F')}\")"
   ]
  },
  {
   "cell_type": "code",
   "execution_count": 8,
   "id": "38788a8a",
   "metadata": {},
   "outputs": [
    {
     "name": "stdout",
     "output_type": "stream",
     "text": [
      "Part 2 answer: 711\n"
     ]
    }
   ],
   "source": [
    "finish = np.where(maps[1] == 'F')\n",
    "F_row, F_col = finish[0][0], finish[1][0]\n",
    "\n",
    "part_1_time = find_routes(0,1,0,'F')\n",
    "\n",
    "return_time = find_routes(F_row, F_col, part_1_time, 'S')\n",
    "\n",
    "part_2_time = find_routes(0,1,return_time,'F')\n",
    "print(f\"Part 2 answer: {part_2_time}\")"
   ]
  }
 ],
 "metadata": {
  "kernelspec": {
   "display_name": "Python 3 (ipykernel)",
   "language": "python",
   "name": "python3"
  },
  "language_info": {
   "codemirror_mode": {
    "name": "ipython",
    "version": 3
   },
   "file_extension": ".py",
   "mimetype": "text/x-python",
   "name": "python",
   "nbconvert_exporter": "python",
   "pygments_lexer": "ipython3",
   "version": "3.10.6"
  }
 },
 "nbformat": 4,
 "nbformat_minor": 5
}
