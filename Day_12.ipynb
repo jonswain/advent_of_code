{
 "cells": [
  {
   "cell_type": "code",
   "execution_count": 1,
   "id": "7d2c13db",
   "metadata": {
    "scrolled": false
   },
   "outputs": [
    {
     "data": {
      "text/plain": [
       "array([[1, 2, 1, ..., 1, 1, 1],\n",
       "       [1, 2, 1, ..., 1, 1, 1],\n",
       "       [1, 2, 1, ..., 1, 1, 1],\n",
       "       ...,\n",
       "       [1, 2, 1, ..., 1, 1, 1],\n",
       "       [1, 2, 3, ..., 1, 1, 1],\n",
       "       [1, 2, 3, ..., 1, 1, 1]])"
      ]
     },
     "execution_count": 1,
     "metadata": {},
     "output_type": "execute_result"
    }
   ],
   "source": [
    "import numpy as np\n",
    "\n",
    "def numbers(x):\n",
    "    if x == 'S':\n",
    "        return 1\n",
    "    elif x == \"E\":\n",
    "        return 26\n",
    "    else:\n",
    "        return int(ord(x)-96)\n",
    "    \n",
    "text = open('inputs/day12.txt').read()\n",
    "arr = np.array([list(line) for line in text.split('\\n')])\n",
    "\n",
    "func = np.vectorize(numbers)\n",
    "\n",
    "arr = func(arr)\n",
    "\n",
    "arr"
   ]
  },
  {
   "cell_type": "code",
   "execution_count": 2,
   "id": "ba931428",
   "metadata": {},
   "outputs": [],
   "source": [
    "arr_letters = np.array([[char for char in list(line)] for line in text.split('\\n')])\n",
    "\n",
    "start = (np.where(arr_letters == 'S')[0].item(), np.where(arr_letters == 'S')[1].item(), 0)\n",
    "start_coord = start[:2]\n",
    "end = (np.where(arr_letters == 'E')[0].item(), np.where(arr_letters == 'E')[1].item(),0)\n",
    "end_coord = end[:2]"
   ]
  },
  {
   "cell_type": "code",
   "execution_count": 3,
   "id": "0ef0df90",
   "metadata": {},
   "outputs": [
    {
     "name": "stdout",
     "output_type": "stream",
     "text": [
      "Finished\n",
      "Part 1 answer: 383\n"
     ]
    }
   ],
   "source": [
    "main_list = [start]\n",
    "coords = [start_coord]\n",
    "c = 0\n",
    "answer = 0\n",
    "\n",
    "for pos in main_list:\n",
    "    c = pos[2] + 1\n",
    "    cell_list = [(pos[0]-1, pos[1], c), (pos[0]+1, pos[1], c), (pos[0], pos[1]-1, c), (pos[0], pos[1]+1, c)]\n",
    "    for cell in cell_list:\n",
    "        if (cell[0] < 0) | (cell[0] > arr.shape[0]-1) | (cell[1] < 0) | (cell[1] > arr.shape[1]-1):\n",
    "            # Out of bounds\n",
    "            pass\n",
    "        elif arr[cell[:2]] - arr[pos[:2]] > 1:\n",
    "            # Too High\n",
    "            pass\n",
    "        elif cell[:2] in coords:\n",
    "            # Already visited\n",
    "            pass\n",
    "        else:\n",
    "            main_list.append(cell)\n",
    "            coords.append(cell[:2])\n",
    "            if cell[:2] == end_coord:\n",
    "                print(\"Finished\")\n",
    "                answer = (cell[2])\n",
    "    \n",
    "    if end_coord in coords:\n",
    "        break\n",
    "\n",
    "print(f\"Part 1 answer: {answer}\")\n"
   ]
  },
  {
   "cell_type": "code",
   "execution_count": 4,
   "id": "d4b9fcf4",
   "metadata": {},
   "outputs": [
    {
     "name": "stdout",
     "output_type": "stream",
     "text": [
      "Part 2 answer: 377\n"
     ]
    }
   ],
   "source": [
    "main_list = [end]\n",
    "coords = [end_coord]\n",
    "c = 0\n",
    "answer = 0\n",
    "\n",
    "for pos in main_list:\n",
    "    c = pos[2] + 1\n",
    "    cell_list = [(pos[0]-1, pos[1], c), (pos[0]+1, pos[1], c), (pos[0], pos[1]-1, c), (pos[0], pos[1]+1, c)]\n",
    "    for cell in cell_list:\n",
    "        if (cell[0] < 0) | (cell[0] > arr.shape[0]-1) | (cell[1] < 0) | (cell[1] > arr.shape[1]-1):\n",
    "            # Out of bounds\n",
    "            pass\n",
    "        elif arr[pos[:2]] - arr[cell[:2]] > 1:\n",
    "            # Too High\n",
    "            pass\n",
    "        elif cell[:2] in coords:\n",
    "            # Already visited\n",
    "            pass\n",
    "        else:\n",
    "            main_list.append(cell)\n",
    "            coords.append(cell[:2])\n",
    "            if arr[cell[:2]] == 1:\n",
    "                answer = cell[2]\n",
    "                    \n",
    "    if answer > 0:\n",
    "        break\n",
    "\n",
    "print(f\"Part 2 answer: {answer}\")"
   ]
  },
  {
   "cell_type": "code",
   "execution_count": null,
   "id": "f6db19f9",
   "metadata": {},
   "outputs": [],
   "source": []
  }
 ],
 "metadata": {
  "kernelspec": {
   "display_name": "Python 3 (ipykernel)",
   "language": "python",
   "name": "python3"
  },
  "language_info": {
   "codemirror_mode": {
    "name": "ipython",
    "version": 3
   },
   "file_extension": ".py",
   "mimetype": "text/x-python",
   "name": "python",
   "nbconvert_exporter": "python",
   "pygments_lexer": "ipython3",
   "version": "3.10.6"
  }
 },
 "nbformat": 4,
 "nbformat_minor": 5
}
