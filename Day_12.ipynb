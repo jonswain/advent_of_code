{
 "cells": [
  {
   "cell_type": "code",
   "execution_count": 164,
   "id": "7d2c13db",
   "metadata": {
    "scrolled": false
   },
   "outputs": [
    {
     "name": "stdout",
     "output_type": "stream",
     "text": [
      "[[1 2 1 ... 1 1 1]\n",
      " [1 2 1 ... 1 1 1]\n",
      " [1 2 1 ... 1 1 1]\n",
      " ...\n",
      " [1 2 1 ... 1 1 1]\n",
      " [1 2 3 ... 1 1 1]\n",
      " [1 2 3 ... 1 1 1]]\n"
     ]
    }
   ],
   "source": [
    "import numpy as np\n",
    "from tqdm import tqdm\n",
    "\n",
    "def numbers(x):\n",
    "    if x == 'S':\n",
    "        return 1\n",
    "    elif x == \"E\":\n",
    "        return 26\n",
    "    else:\n",
    "        return int(ord(x)-96)\n",
    "    \n",
    "text = open('inputs/day12.txt').read()\n",
    "arr = np.array([[numbers(char) for char in list(line)] for line in text.split('\\n')])\n",
    "\n",
    "print(arr)"
   ]
  },
  {
   "cell_type": "code",
   "execution_count": 165,
   "id": "ba931428",
   "metadata": {},
   "outputs": [],
   "source": [
    "arr_letters = np.array([[char for char in list(line)] for line in text.split('\\n')])\n",
    "\n",
    "\n",
    "start = (np.where(arr_letters == 'S')[0].item(), np.where(arr_letters == 'S')[1].item(), 0)\n",
    "start_coord = start[:2]\n",
    "end_coord = (np.where(arr_letters == 'E')[0].item(), np.where(arr_letters == 'E')[1].item())"
   ]
  },
  {
   "cell_type": "code",
   "execution_count": 166,
   "id": "0ef0df90",
   "metadata": {},
   "outputs": [
    {
     "name": "stdout",
     "output_type": "stream",
     "text": [
      "Finished\n",
      "Part 1 answer: 383\n"
     ]
    }
   ],
   "source": [
    "main_list = [start]\n",
    "coords = [start_coord]\n",
    "c = 0\n",
    "answer = 0\n",
    "\n",
    "for pos in main_list:\n",
    "    c = pos[2] + 1\n",
    "    cell_list = [(pos[0]-1, pos[1], c), (pos[0]+1, pos[1], c), (pos[0], pos[1]-1, c), (pos[0], pos[1]+1, c)]\n",
    "    for cell in cell_list:\n",
    "        if (cell[0] < 0) | (cell[0] > arr.shape[0]-1) | (cell[1] < 0) | (cell[1] > arr.shape[1]-1):\n",
    "            # Out of bounds\n",
    "            pass\n",
    "        elif arr[cell[:2]] - arr[pos[:2]] > 1:\n",
    "            # Too High\n",
    "            pass\n",
    "        elif cell[:2] in coords:\n",
    "            # Already visited\n",
    "            pass\n",
    "        else:\n",
    "            main_list.append(cell)\n",
    "            coords.append(cell[:2])\n",
    "            if cell[:2] == end_coord:\n",
    "                print(\"Finished\")\n",
    "                answer = (cell[2])\n",
    "    \n",
    "    if end_coord in coords:\n",
    "        break\n",
    "\n",
    "print(f\"Part 1 answer: {answer}\")\n"
   ]
  },
  {
   "cell_type": "code",
   "execution_count": 167,
   "id": "4e039bca",
   "metadata": {},
   "outputs": [
    {
     "name": "stderr",
     "output_type": "stream",
     "text": [
      "100%|███████████████████████████████████████████| 41/41 [00:38<00:00,  1.05it/s]"
     ]
    },
    {
     "name": "stdout",
     "output_type": "stream",
     "text": [
      "Part 2 answer: 377\n"
     ]
    },
    {
     "name": "stderr",
     "output_type": "stream",
     "text": [
      "\n"
     ]
    }
   ],
   "source": [
    "answers = []\n",
    "\n",
    "for i in tqdm(range(len(arr))):\n",
    "    for j in range(len(arr[1])):\n",
    "        if arr[i,j] == 1:\n",
    "            main_list = [(i,j,0)]\n",
    "            coords = [(i,j)]\n",
    "            c = 0\n",
    "            answer = 0\n",
    "\n",
    "            for pos in main_list:\n",
    "                c = pos[2] + 1\n",
    "                cell_list = [(pos[0]-1, pos[1], c), (pos[0]+1, pos[1], c), (pos[0], pos[1]-1, c), (pos[0], pos[1]+1, c)]\n",
    "                for cell in cell_list:\n",
    "                    if (cell[0] < 0) | (cell[0] > arr.shape[0]-1) | (cell[1] < 0) | (cell[1] > arr.shape[1]-1):\n",
    "                        # Out of bounds\n",
    "                        pass\n",
    "                    elif arr[cell[:2]] - arr[pos[:2]] > 1:\n",
    "                        # Too High\n",
    "                        pass\n",
    "                    elif cell[:2] in coords:\n",
    "                        # Already visited\n",
    "                        pass\n",
    "                    else:\n",
    "                        main_list.append(cell)\n",
    "                        coords.append(cell[:2])\n",
    "                        if cell[:2] == end_coord:\n",
    "                            answer = (cell[2])\n",
    "                            answers.append(answer)\n",
    "\n",
    "                if end_coord in coords:\n",
    "                    break\n",
    "                    \n",
    "print(f\"Part 2 answer: {min(answers)}\")"
   ]
  },
  {
   "cell_type": "code",
   "execution_count": null,
   "id": "d4b9fcf4",
   "metadata": {},
   "outputs": [],
   "source": []
  }
 ],
 "metadata": {
  "kernelspec": {
   "display_name": "Python 3 (ipykernel)",
   "language": "python",
   "name": "python3"
  },
  "language_info": {
   "codemirror_mode": {
    "name": "ipython",
    "version": 3
   },
   "file_extension": ".py",
   "mimetype": "text/x-python",
   "name": "python",
   "nbconvert_exporter": "python",
   "pygments_lexer": "ipython3",
   "version": "3.10.6"
  }
 },
 "nbformat": 4,
 "nbformat_minor": 5
}
