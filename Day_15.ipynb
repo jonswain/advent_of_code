{
 "cells": [
  {
   "cell_type": "code",
   "execution_count": 2,
   "id": "16da9d4b",
   "metadata": {},
   "outputs": [],
   "source": [
    "day15 = open('inputs/day15.txt').read()\n",
    "day15 = day15.split('\\n')"
   ]
  },
  {
   "cell_type": "code",
   "execution_count": 3,
   "id": "62916130",
   "metadata": {},
   "outputs": [
    {
     "name": "stdout",
     "output_type": "stream",
     "text": [
      "Part 1 answer: 4793062\n",
      "Part 2 answer: 10826395253551\n"
     ]
    }
   ],
   "source": [
    "import re\n",
    "import z3\n",
    "\n",
    "s = z3.Solver() # Create solver\n",
    "x, y = z3.Int(\"x\"), z3.Int(\"y\") # Create int variables\n",
    "\n",
    "s.add(0 <= x); s.add(x <= 4000000) # Add limits\n",
    "s.add(0 <= y); s.add(y <= 4000000)\n",
    "\n",
    "def z3_abs(x):\n",
    "    return z3.If(x >= 0, x, -x) # If x >= 0, return x, else -x (Return abs)\n",
    "\n",
    "row_num = 2000000\n",
    "offset = 10000000\n",
    "sensors = []\n",
    "beacons = []\n",
    "in_range_sensors = []\n",
    "\n",
    "for sensor in day15:\n",
    "    s_x, s_y, b_x, b_y = re.findall(r'=((?:.)?\\d*)', sensor)\n",
    "    s_x, s_y, b_x, b_y = int(s_x), int(s_y), int(b_x), int(b_y)\n",
    "    man_dist = abs(s_x - b_x) + abs(s_y - b_y)\n",
    "    if ((s_y <= row_num) and (s_y + man_dist) >= row_num) | ((s_y >= row_num) and (s_y - man_dist) <= row_num):\n",
    "        in_range_sensors.append((s_x, s_y, man_dist))\n",
    "\n",
    "    sensors.append((s_x,s_y,man_dist))\n",
    "    beacons.append((b_x,b_y))\n",
    "            \n",
    "    s.add(z3_abs(s_x - x) + z3_abs(s_y - y) > man_dist) # Squares must be further from sensor than man_dist) \n",
    "\n",
    "import numpy as np\n",
    "\n",
    "row = np.full((500000000), [0],dtype=int)    \n",
    "    \n",
    "for sensor in in_range_sensors:\n",
    "    distance = sensor[2] - abs(sensor[1]-row_num)    \n",
    "    centre = sensor[0] + offset\n",
    "    start = centre-distance\n",
    "\n",
    "    row[(centre-distance):(centre+distance+1)] = 1\n",
    "    \n",
    "#Exclude known beacons\n",
    "for beacon in beacons:\n",
    "    if beacon[1] == row_num:\n",
    "        row[beacon[0]+offset] = 0\n",
    "      \n",
    "print(f\"Part 1 answer: {row.sum()}\")\n",
    "\n",
    "assert s.check() == z3.sat\n",
    "model = s.model()\n",
    "print(\"Part 2 answer:\", model[x].as_long() * 4000000 + model[y].as_long())"
   ]
  },
  {
   "cell_type": "code",
   "execution_count": 128,
   "id": "05bc905d",
   "metadata": {},
   "outputs": [
    {
     "name": "stdout",
     "output_type": "stream",
     "text": [
      "Part 2 answer: 10826395253551\n"
     ]
    }
   ],
   "source": [
    "# Find lines that are 1 square outside of each sensors range and store as intercept with Y axis\n",
    "up_lines = []\n",
    "down_lines = []\n",
    "for sensor in sensors:\n",
    "    sxmin = sensor[0] - sensor[2] -1, sensor[1]\n",
    "    sxmax = sensor[0] + sensor[2] +1, sensor[1]\n",
    "    \n",
    "    up_lines.append(sxmin[1]-sxmin[0])\n",
    "    up_lines.append(sxmax[1]-sxmax[0])\n",
    "    \n",
    "    down_lines.append(sxmin[1]+sxmin[0])\n",
    "    down_lines.append(sxmax[1]+sxmax[0])\n",
    "    \n",
    "# Calculate the coordinates of intersection for each pair of lines\n",
    "coords = []\n",
    "for c1, c2 in itertools.product(set(up_lines),set(down_lines)):\n",
    "    y = (c1 + c2)/2\n",
    "    x = c2 - y\n",
    "    if (x >= 0) & (x <= 4000000) & (y >= 0) & (y <= 4000000):\n",
    "        coords.append((x,y))\n",
    "        \n",
    "# For each coordinate, check if inside range of each sensor\n",
    "for coord in coords:\n",
    "    out = []\n",
    "    for sensor in sensors:\n",
    "        if (abs(sensor[0] - coord[0]) + abs(sensor[1] - coord[1])) > sensor[2]:\n",
    "            out.append('outside')\n",
    "            if len(out) == len(sensors): # If outside the range of all sensors\n",
    "                print(f\"Part 2 answer: {int((coord[0]*4000000)+coord[1])}\")"
   ]
  },
  {
   "cell_type": "code",
   "execution_count": null,
   "id": "0ea1d97a",
   "metadata": {},
   "outputs": [],
   "source": []
  }
 ],
 "metadata": {
  "kernelspec": {
   "display_name": "Python 3 (ipykernel)",
   "language": "python",
   "name": "python3"
  },
  "language_info": {
   "codemirror_mode": {
    "name": "ipython",
    "version": 3
   },
   "file_extension": ".py",
   "mimetype": "text/x-python",
   "name": "python",
   "nbconvert_exporter": "python",
   "pygments_lexer": "ipython3",
   "version": "3.10.6"
  }
 },
 "nbformat": 4,
 "nbformat_minor": 5
}
