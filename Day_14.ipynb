{
 "cells": [
  {
   "cell_type": "code",
   "execution_count": 1,
   "id": "6cc510a3",
   "metadata": {},
   "outputs": [],
   "source": [
    "day14 = open('inputs/day14.txt').read()\n",
    "day14 = day14.split('\\n')"
   ]
  },
  {
   "cell_type": "code",
   "execution_count": 2,
   "id": "447f49c6",
   "metadata": {},
   "outputs": [],
   "source": [
    "import numpy as np\n",
    "\n",
    "cave = np.full((200,1000), ['.'],dtype=str)"
   ]
  },
  {
   "cell_type": "code",
   "execution_count": 3,
   "id": "8934e99c",
   "metadata": {},
   "outputs": [],
   "source": [
    "y = []\n",
    "for line in day14:\n",
    "    positions = [pos.strip() for pos in line.split('->')]\n",
    "    for i in range(len(positions)-1):\n",
    "        x1, y1 = positions[i].split(',')\n",
    "        x2, y2 = positions[i+1].split(',')\n",
    "        x1, y1, x2, y2 = int(x1), int(y1), int(x2), int(y2)\n",
    "        y.append(y1)\n",
    "        y.append(y2)\n",
    "\n",
    "        if x1 == x2:\n",
    "#           draw vertical line at {x1} from {y1} to {y2}\n",
    "            for i in range(np.abs(y2-y1)+1):\n",
    "                if y2 - y1 < 0:\n",
    "                    i = -i\n",
    "                cave[y1+i,x1] = \"#\"\n",
    "        \n",
    "        else:\n",
    "#           draw horizonal line at {y1} from {x1} to {x2}\"\n",
    "            for i in range(np.abs(x2-x1)+1):\n",
    "                if x2 - x1 < 0:\n",
    "                    i = -i\n",
    "                cave[y1,x1+i] = \"#\"\n",
    "                \n",
    "max_y = (max(y))\n",
    "cave[max_y+2] = '#'"
   ]
  },
  {
   "cell_type": "code",
   "execution_count": 4,
   "id": "e1a9fb78",
   "metadata": {},
   "outputs": [
    {
     "name": "stdout",
     "output_type": "stream",
     "text": [
      "Part 1 answer: 979\n"
     ]
    }
   ],
   "source": [
    "units = 0\n",
    "floor = False\n",
    "\n",
    "while floor == False:\n",
    "    units += 1\n",
    "    sand_x, sand_y = 0,500\n",
    "    \n",
    "    while ((cave[sand_x+1, sand_y] == '.') | (cave[sand_x+1, sand_y-1] == '.') | (cave[sand_x+1, sand_y+1] == '.')) & (sand_x < max_y+2):\n",
    "        if sand_x == max_y: \n",
    "            floor = True\n",
    "        \n",
    "        if cave[sand_x+1, sand_y] == '.':\n",
    "            sand_x, sand_y = sand_x+1, sand_y\n",
    "#           moving down\n",
    "        elif cave[sand_x+1, sand_y-1] == '.':\n",
    "            sand_x, sand_y = sand_x+1, sand_y-1\n",
    "#           moving left\n",
    "        elif cave[sand_x+1, sand_y+1] == '.':\n",
    "            sand_x, sand_y = sand_x +1, sand_y+1\n",
    "#           moving right\n",
    "    cave[sand_x, sand_y] = 'o'\n",
    "\n",
    "print(f\"Part 1 answer: {units-1}\")"
   ]
  },
  {
   "cell_type": "code",
   "execution_count": 5,
   "id": "ccdd45cb",
   "metadata": {},
   "outputs": [
    {
     "name": "stdout",
     "output_type": "stream",
     "text": [
      "Part 2 answer: 29044\n"
     ]
    }
   ],
   "source": [
    "top = False\n",
    "\n",
    "while top == False:\n",
    "    units += 1\n",
    "    sand_x, sand_y = 0,500\n",
    "    \n",
    "    while ((cave[sand_x+1, sand_y] == '.') | (cave[sand_x+1, sand_y-1] == '.') | (cave[sand_x+1, sand_y+1] == '.')) & (sand_x < max_y+2):\n",
    "        \n",
    "        if cave[sand_x+1, sand_y] == '.':\n",
    "            sand_x, sand_y = sand_x+1, sand_y\n",
    "#           moving down\n",
    "        elif cave[sand_x+1, sand_y-1] == '.':\n",
    "            sand_x, sand_y = sand_x+1, sand_y-1\n",
    "#           moving left\n",
    "        elif cave[sand_x+1, sand_y+1] == '.':\n",
    "            sand_x, sand_y = sand_x +1, sand_y+1\n",
    "#           moving right\n",
    "    cave[sand_x, sand_y] = 'o'\n",
    "    if cave[0,500] == 'o':\n",
    "        top = True\n",
    "\n",
    "print(f\"Part 2 answer: {units}\")"
   ]
  },
  {
   "cell_type": "code",
   "execution_count": null,
   "id": "dc7c91a5",
   "metadata": {},
   "outputs": [],
   "source": []
  }
 ],
 "metadata": {
  "kernelspec": {
   "display_name": "Python 3 (ipykernel)",
   "language": "python",
   "name": "python3"
  },
  "language_info": {
   "codemirror_mode": {
    "name": "ipython",
    "version": 3
   },
   "file_extension": ".py",
   "mimetype": "text/x-python",
   "name": "python",
   "nbconvert_exporter": "python",
   "pygments_lexer": "ipython3",
   "version": "3.10.6"
  }
 },
 "nbformat": 4,
 "nbformat_minor": 5
}
