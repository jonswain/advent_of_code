{
 "cells": [
  {
   "cell_type": "code",
   "execution_count": 8,
   "id": "6cc510a3",
   "metadata": {},
   "outputs": [],
   "source": [
    "day14 = open('inputs/day14.txt').read()\n",
    "day14 = day14.split('\\n')"
   ]
  },
  {
   "cell_type": "code",
   "execution_count": 9,
   "id": "447f49c6",
   "metadata": {},
   "outputs": [],
   "source": [
    "import numpy as np\n",
    "\n",
    "cave = np.full((200,1000), [0],dtype=int)"
   ]
  },
  {
   "cell_type": "code",
   "execution_count": 10,
   "id": "8934e99c",
   "metadata": {},
   "outputs": [],
   "source": [
    "y = []\n",
    "for line in day14:\n",
    "    positions = [pos.strip() for pos in line.split('->')]\n",
    "    for i in range(len(positions)-1):\n",
    "        x1, y1 = positions[i].split(',')\n",
    "        x2, y2 = positions[i+1].split(',')\n",
    "        x1, y1, x2, y2 = int(x1), int(y1), int(x2), int(y2)\n",
    "        y.append(y1)\n",
    "        y.append(y2)\n",
    "\n",
    "        if x1 == x2:\n",
    "#           draw vertical line at {x1} from {y1} to {y2}\n",
    "            for i in range(np.abs(y2-y1)+1):\n",
    "                if y2 - y1 < 0:\n",
    "                    i = -i\n",
    "                cave[y1+i,x1] = 1\n",
    "        \n",
    "        else:\n",
    "#           draw horizonal line at {y1} from {x1} to {x2}\"\n",
    "            for i in range(np.abs(x2-x1)+1):\n",
    "                if x2 - x1 < 0:\n",
    "                    i = -i\n",
    "                cave[y1,x1+i] = 1\n",
    "                \n",
    "max_y = (max(y))\n",
    "cave[max_y+2] = 1"
   ]
  },
  {
   "cell_type": "code",
   "execution_count": 12,
   "id": "dc7c91a5",
   "metadata": {},
   "outputs": [],
   "source": [
    "from matplotlib import pyplot as plt\n",
    "from matplotlib.colors import LinearSegmentedColormap\n",
    "\n",
    "# plt.register_cmap(cmap=LinearSegmentedColormap.from_list(name='sand',colors=[[0.0,0.0,0.0,1.0],[1.0,0.0,0.0,1.0],[194.0,178.0,128.0,1.0]]))\n",
    "\n",
    "def save_graph(unit, data):\n",
    "    fig, ax = plt.subplots()\n",
    "    plt.figure(figsize = (10,6))\n",
    "    plt.imshow([x[300:700] for x in cave], interpolation='nearest',cmap=\"sand\",vmin=0,vmax=2)\n",
    "    plt.savefig(f'images/{unit}.png')\n",
    "    plt.clf()\n",
    "    plt.close('all')\n",
    "save_graph(1, cave)"
   ]
  },
  {
   "cell_type": "code",
   "execution_count": 13,
   "id": "e1a9fb78",
   "metadata": {},
   "outputs": [
    {
     "name": "stdout",
     "output_type": "stream",
     "text": [
      "Part 1 answer: 979\n"
     ]
    }
   ],
   "source": [
    "units = 0\n",
    "floor = False\n",
    "\n",
    "while floor == False:\n",
    "    units += 1\n",
    "    sand_x, sand_y = 0,500\n",
    "#     save_graph(units, cave)\n",
    "    while ((cave[sand_x+1, sand_y] == 0) | (cave[sand_x+1, sand_y-1] == 0) | (cave[sand_x+1, sand_y+1] == 0)) & (sand_x < max_y+2):\n",
    "        if sand_x == max_y: \n",
    "            floor = True\n",
    "        \n",
    "        if cave[sand_x+1, sand_y] == 0:\n",
    "            sand_x, sand_y = sand_x+1, sand_y\n",
    "#           moving down\n",
    "        elif cave[sand_x+1, sand_y-1] == 0:\n",
    "            sand_x, sand_y = sand_x+1, sand_y-1\n",
    "#           moving left\n",
    "        elif cave[sand_x+1, sand_y+1] == 0:\n",
    "            sand_x, sand_y = sand_x +1, sand_y+1\n",
    "#           moving right\n",
    "    cave[sand_x, sand_y] = 2\n",
    "\n",
    "print(f\"Part 1 answer: {units-1}\")"
   ]
  },
  {
   "cell_type": "code",
   "execution_count": 14,
   "id": "ccdd45cb",
   "metadata": {},
   "outputs": [
    {
     "name": "stdout",
     "output_type": "stream",
     "text": [
      "Part 2 answer: 29044\n"
     ]
    }
   ],
   "source": [
    "top = False\n",
    "\n",
    "while top == False:\n",
    "#     save_graph(units, cave)\n",
    "    units += 1\n",
    "    sand_x, sand_y = 0,500\n",
    "    while ((cave[sand_x+1, sand_y] == 0) | (cave[sand_x+1, sand_y-1] == 0) | (cave[sand_x+1, sand_y+1] == 0)) & (sand_x < max_y+2):\n",
    "        if cave[sand_x+1, sand_y] == 0:\n",
    "            sand_x, sand_y = sand_x+1, sand_y\n",
    "#           moving down\n",
    "        elif cave[sand_x+1, sand_y-1] == 0:\n",
    "            sand_x, sand_y = sand_x+1, sand_y-1\n",
    "#           moving left\n",
    "        elif cave[sand_x+1, sand_y+1] == 0:\n",
    "            sand_x, sand_y = sand_x +1, sand_y+1\n",
    "#           moving right\n",
    "    cave[sand_x, sand_y] = 2\n",
    "    if cave[0,500] == 2:\n",
    "        top = True\n",
    "\n",
    "print(f\"Part 2 answer: {units}\")"
   ]
  },
  {
   "cell_type": "code",
   "execution_count": 1,
   "id": "67c19182",
   "metadata": {},
   "outputs": [
    {
     "name": "stderr",
     "output_type": "stream",
     "text": [
      "  0%|                                                 | 0/29043 [00:00<?, ?it/s]/var/folders/3s/fznvyvxx6gz2jbsddrqqlsdw0000gp/T/ipykernel_92289/588958445.py:6: DeprecationWarning: Starting with ImageIO v3 the behavior of this function will switch to that of iio.v3.imread. To keep the current behavior (and make this warning disappear) use `import imageio.v2 as imageio` or call `imageio.v2.imread` directly.\n",
      "  images.append(imageio.imread(filename))\n",
      "100%|████████████████████████████████████| 29043/29043 [03:23<00:00, 142.49it/s]\n"
     ]
    }
   ],
   "source": [
    "from tqdm import tqdm\n",
    "import imageio\n",
    "images = []\n",
    "for i in tqdm(range(29043)):\n",
    "    filename = f'images/{i+1}.png'\n",
    "    images.append(imageio.imread(filename))\n",
    "imageio.mimsave('movie.gif', images)"
   ]
  },
  {
   "cell_type": "code",
   "execution_count": null,
   "id": "ddd226fc",
   "metadata": {},
   "outputs": [],
   "source": []
  }
 ],
 "metadata": {
  "kernelspec": {
   "display_name": "Python 3 (ipykernel)",
   "language": "python",
   "name": "python3"
  },
  "language_info": {
   "codemirror_mode": {
    "name": "ipython",
    "version": 3
   },
   "file_extension": ".py",
   "mimetype": "text/x-python",
   "name": "python",
   "nbconvert_exporter": "python",
   "pygments_lexer": "ipython3",
   "version": "3.10.6"
  }
 },
 "nbformat": 4,
 "nbformat_minor": 5
}
