{
 "cells": [
  {
   "cell_type": "code",
   "execution_count": 10,
   "id": "2abd6eaf",
   "metadata": {},
   "outputs": [],
   "source": [
    "day6 = open('inputs/day6.txt', 'r').read()"
   ]
  },
  {
   "cell_type": "code",
   "execution_count": 17,
   "id": "6a26c31a",
   "metadata": {},
   "outputs": [
    {
     "name": "stdout",
     "output_type": "stream",
     "text": [
      "1896\n",
      "3452\n"
     ]
    }
   ],
   "source": [
    "def find_sequence(sequence_length):\n",
    "    for index in range(len(day6)):\n",
    "        if (len(set(day6[index:index+sequence_length]))) == sequence_length:\n",
    "            print(index+sequence_length)\n",
    "            break  \n",
    "            \n",
    "find_sequence(4)\n",
    "\n",
    "find_sequence(14)"
   ]
  },
  {
   "cell_type": "code",
   "execution_count": null,
   "id": "7f6392b0",
   "metadata": {},
   "outputs": [],
   "source": []
  }
 ],
 "metadata": {
  "kernelspec": {
   "display_name": "Python 3 (ipykernel)",
   "language": "python",
   "name": "python3"
  },
  "language_info": {
   "codemirror_mode": {
    "name": "ipython",
    "version": 3
   },
   "file_extension": ".py",
   "mimetype": "text/x-python",
   "name": "python",
   "nbconvert_exporter": "python",
   "pygments_lexer": "ipython3",
   "version": "3.10.6"
  }
 },
 "nbformat": 4,
 "nbformat_minor": 5
}
