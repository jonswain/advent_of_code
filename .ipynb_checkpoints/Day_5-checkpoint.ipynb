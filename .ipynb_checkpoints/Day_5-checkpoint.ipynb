{
 "cells": [
  {
   "cell_type": "code",
   "execution_count": 2,
   "id": "2db80b37",
   "metadata": {},
   "outputs": [
    {
     "data": {
      "text/plain": [
       "['            [L] [M]         [M]    ',\n",
       " '        [D] [R] [Z]         [C] [L]',\n",
       " '        [C] [S] [T] [G]     [V] [M]',\n",
       " '[R]     [L] [Q] [B] [B]     [D] [F]',\n",
       " '[H] [B] [G] [D] [Q] [Z]     [T] [J]',\n",
       " '[M] [J] [H] [M] [P] [S] [V] [L] [N]',\n",
       " '[P] [C] [N] [T] [S] [F] [R] [G] [Q]',\n",
       " '[Z] [P] [S] [F] [F] [T] [N] [P] [W]',\n",
       " ' 1   2   3   4   5   6   7   8   9 ']"
      ]
     },
     "execution_count": 2,
     "metadata": {},
     "output_type": "execute_result"
    }
   ],
   "source": [
    "task5 = open('inputs/day5.txt', 'r').read()\n",
    "crates = task5.split('\\n')[:9]\n",
    "instructions = task5.split('\\n')[10:]\n",
    "crates"
   ]
  },
  {
   "cell_type": "code",
   "execution_count": 3,
   "id": "34cb43e8",
   "metadata": {},
   "outputs": [
    {
     "name": "stdout",
     "output_type": "stream",
     "text": [
      "[['1', '[Z]', '[P]', '[M]', '[H]', '[R]'],\n",
      " ['2', '[P]', '[C]', '[J]', '[B]'],\n",
      " ['3', '[S]', '[N]', '[H]', '[G]', '[L]', '[C]', '[D]'],\n",
      " ['4', '[F]', '[T]', '[M]', '[D]', '[Q]', '[S]', '[R]', '[L]'],\n",
      " ['5', '[F]', '[S]', '[P]', '[Q]', '[B]', '[T]', '[Z]', '[M]'],\n",
      " ['6', '[T]', '[F]', '[S]', '[Z]', '[B]', '[G]'],\n",
      " ['7', '[N]', '[R]', '[V]'],\n",
      " ['8', '[P]', '[G]', '[L]', '[T]', '[D]', '[V]', '[C]', '[M]'],\n",
      " ['9', '[W]', '[Q]', '[N]', '[J]', '[F]', '[M]', '[L]']]\n"
     ]
    }
   ],
   "source": [
    "from pprint import pprint\n",
    "crates_orginal = [[] for _ in range(9)]\n",
    "for crate in crates[::-1]:\n",
    "    for index, obj in enumerate(crate.replace('    ', ' [e] ').split()):\n",
    "        crates_orginal[index].append(obj)\n",
    "\n",
    "crates_orginal = [[obj for obj in crate if obj != '[e]'] for crate in crates_orginal]\n",
    "        \n",
    "pprint(crates_orginal)"
   ]
  },
  {
   "cell_type": "code",
   "execution_count": 5,
   "id": "1ef5696f",
   "metadata": {},
   "outputs": [
    {
     "name": "stdout",
     "output_type": "stream",
     "text": [
      "Crates on top of each column: VQZNJMWTR\n"
     ]
    }
   ],
   "source": [
    "crates_full = crates_orginal.copy()\n",
    "\n",
    "for instruction in instructions:\n",
    "    \n",
    "    num = int(instruction.split()[1])\n",
    "    frm = int(instruction.split()[3])\n",
    "    t = int(instruction.split()[5])\n",
    "\n",
    "    moving = crates_full[(frm-1)][-(num):]\n",
    "    moving.reverse()\n",
    "    \n",
    "    crates_full[(t-1)] = crates_full[(t-1)] + (moving)\n",
    "    \n",
    "    crates_full[(frm-1)] = crates_full[(frm-1)][:-(num)]\n",
    "      \n",
    "tops = \"\"\n",
    "for col in crates_full:\n",
    "    tops = tops + (col[-1][1])\n",
    "print(f\"Crates on top of each column: {tops}\")"
   ]
  },
  {
   "cell_type": "code",
   "execution_count": 6,
   "id": "093fb113",
   "metadata": {},
   "outputs": [
    {
     "name": "stdout",
     "output_type": "stream",
     "text": [
      "Crates on top of each column: NLCDCLVMQ\n"
     ]
    }
   ],
   "source": [
    "crates_full = crates_orginal.copy()\n",
    "\n",
    "for instruction in instructions:\n",
    "    \n",
    "    num = int(instruction.split()[1])\n",
    "    frm = int(instruction.split()[3])\n",
    "    t = int(instruction.split()[5])\n",
    "\n",
    "    moving = crates_full[(frm-1)][-(num):]\n",
    "   \n",
    "    crates_full[(t-1)] = crates_full[(t-1)] + (moving)\n",
    "    \n",
    "    crates_full[(frm-1)] = crates_full[(frm-1)][:-(num)]\n",
    "   \n",
    "tops = \"\"\n",
    "for col in crates_full:\n",
    "    tops = tops + (col[-1][1])\n",
    "print(f\"Crates on top of each column: {tops}\")"
   ]
  },
  {
   "cell_type": "code",
   "execution_count": null,
   "id": "e72bae54",
   "metadata": {},
   "outputs": [],
   "source": []
  }
 ],
 "metadata": {
  "kernelspec": {
   "display_name": "Python 3 (ipykernel)",
   "language": "python",
   "name": "python3"
  },
  "language_info": {
   "codemirror_mode": {
    "name": "ipython",
    "version": 3
   },
   "file_extension": ".py",
   "mimetype": "text/x-python",
   "name": "python",
   "nbconvert_exporter": "python",
   "pygments_lexer": "ipython3",
   "version": "3.10.6"
  }
 },
 "nbformat": 4,
 "nbformat_minor": 5
}
