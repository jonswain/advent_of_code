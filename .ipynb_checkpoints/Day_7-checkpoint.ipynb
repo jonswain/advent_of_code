{
 "cells": [
  {
   "cell_type": "code",
   "execution_count": 1,
   "id": "484597ba",
   "metadata": {},
   "outputs": [
    {
     "name": "stdout",
     "output_type": "stream",
     "text": [
      "Part 1 answer: 1086293\n"
     ]
    }
   ],
   "source": [
    "import re\n",
    "\n",
    "day7 = [line.strip() for line in open('inputs/day7.txt')]\n",
    "paths = []\n",
    "ls = []\n",
    "path = ''\n",
    "for index, line in enumerate(day7):\n",
    "    if line[0:4] == \"$ cd\":\n",
    "        if line == \"$ cd ..\":\n",
    "            path = \"/\".join(path.split('/')[:-2])\n",
    "            path += '/'\n",
    "        else:    \n",
    "            path += line[5:] + \"/\"\n",
    "            contents = []\n",
    "            files = []\n",
    "            for row in day7[index+2:]:\n",
    "                if row[0] == \"$\":\n",
    "                    break\n",
    "                elif row[0:3] == 'dir':\n",
    "                    contents.append(path+row[4:]+\"/\")\n",
    "                else:\n",
    "                    files.append(row)\n",
    "            paths.append((path, contents, files))\n",
    "           \n",
    "drs = {}\n",
    "\n",
    "for path in paths[::-1]:\n",
    "    drs[path[0]] = sum([int(x) for x in re.findall(r'\\d+', ''.join(path[2]))])\n",
    "    \n",
    "for path in paths[::-1]:\n",
    "    if path[1]:\n",
    "        for route in path[1]:\n",
    "            drs[path[0]] += drs[route]\n",
    "            \n",
    "print(f\"Part 1 answer: {sum(v for v in drs.values() if v < 100000)}\")"
   ]
  },
  {
   "cell_type": "code",
   "execution_count": 2,
   "id": "829fcab3",
   "metadata": {},
   "outputs": [
    {
     "name": "stdout",
     "output_type": "stream",
     "text": [
      "Part 2 answer: 366028\n"
     ]
    }
   ],
   "source": [
    "used = drs['//']\n",
    "space = 70000000 - used\n",
    "needed = 30000000 - space\n",
    "\n",
    "print(f\"Part 2 answer: {min([v for v in drs.values() if v > needed])}\")"
   ]
  },
  {
   "cell_type": "code",
   "execution_count": null,
   "id": "0e1f76e4",
   "metadata": {},
   "outputs": [],
   "source": []
  }
 ],
 "metadata": {
  "kernelspec": {
   "display_name": "Python 3 (ipykernel)",
   "language": "python",
   "name": "python3"
  },
  "language_info": {
   "codemirror_mode": {
    "name": "ipython",
    "version": 3
   },
   "file_extension": ".py",
   "mimetype": "text/x-python",
   "name": "python",
   "nbconvert_exporter": "python",
   "pygments_lexer": "ipython3",
   "version": "3.10.6"
  }
 },
 "nbformat": 4,
 "nbformat_minor": 5
}
