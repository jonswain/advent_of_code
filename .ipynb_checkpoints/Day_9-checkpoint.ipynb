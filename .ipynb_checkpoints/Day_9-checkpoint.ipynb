{
 "cells": [
  {
   "cell_type": "code",
   "execution_count": 1,
   "id": "025cb356",
   "metadata": {},
   "outputs": [
    {
     "name": "stdout",
     "output_type": "stream",
     "text": [
      "Part 1 answer: 6271\n",
      "Part 2 answer: 2458\n"
     ]
    }
   ],
   "source": [
    "class Knot():\n",
    "    def __init__(self):\n",
    "        self.x = 0\n",
    "        self.y = 0\n",
    "\n",
    "        \n",
    "def make_rope(length):    \n",
    "    rope = []\n",
    "    for i in range(length):\n",
    "        knot = Knot()\n",
    "        rope.append(knot)\n",
    "    return rope\n",
    "\n",
    "    \n",
    "def move_head(knot, direction):   \n",
    "    if direction == \"U\":\n",
    "        knot.y += 1\n",
    "\n",
    "    elif direction == \"D\":\n",
    "        knot.y -= 1\n",
    "\n",
    "    elif direction == \"L\":\n",
    "        knot.x -= 1\n",
    "\n",
    "    else:\n",
    "        knot.x += 1    \n",
    "    \n",
    "    \n",
    "def follow(knot1, knot2):\n",
    "    if (knot1.y - knot2.y)**2 + (knot1.x - knot2.x)**2 >= 4:            \n",
    "        knot2.x = knot1.x-(abs(knot1.x - knot2.x)//2 * ((knot1.x - knot2.x)//2))\n",
    "        knot2.y = knot1.y-(abs(knot1.y - knot2.y)//2) * ((knot1.y - knot2.y)//2)    \n",
    "\n",
    "        \n",
    "def calculate_positions(length):        \n",
    "    rope = make_rope(length)  \n",
    "    locations = []\n",
    "            \n",
    "    for instruction in open('inputs/day9.txt'):\n",
    "        direction, distance = instruction.split()\n",
    "        distance = int(distance)\n",
    "\n",
    "        for i in range(distance):\n",
    "            move_head(rope[0], direction)\n",
    "\n",
    "            for i in range(len(rope)-1): \n",
    "                follow(rope[i], rope[i+1])\n",
    "\n",
    "            locations.append((rope[-1].x,rope[-1].y))\n",
    "    return len(set(locations))\n",
    "\n",
    "\n",
    "print(f\"Part 1 answer: {calculate_positions(length = 2)}\")\n",
    "\n",
    "print(f\"Part 2 answer: {calculate_positions(length = 10)}\")"
   ]
  },
  {
   "cell_type": "code",
   "execution_count": null,
   "id": "eaa9fa17",
   "metadata": {},
   "outputs": [],
   "source": []
  }
 ],
 "metadata": {
  "kernelspec": {
   "display_name": "Python 3 (ipykernel)",
   "language": "python",
   "name": "python3"
  },
  "language_info": {
   "codemirror_mode": {
    "name": "ipython",
    "version": 3
   },
   "file_extension": ".py",
   "mimetype": "text/x-python",
   "name": "python",
   "nbconvert_exporter": "python",
   "pygments_lexer": "ipython3",
   "version": "3.10.6"
  }
 },
 "nbformat": 4,
 "nbformat_minor": 5
}
