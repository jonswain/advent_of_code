{
 "cells": [
  {
   "cell_type": "code",
   "execution_count": 6,
   "id": "a60a1ff7",
   "metadata": {},
   "outputs": [],
   "source": [
    "task3 = [line.strip() for line in open('inputs/day3.txt')]"
   ]
  },
  {
   "cell_type": "code",
   "execution_count": 7,
   "id": "b0029f6d",
   "metadata": {},
   "outputs": [
    {
     "name": "stdout",
     "output_type": "stream",
     "text": [
      "7446\n"
     ]
    }
   ],
   "source": [
    "score = 0\n",
    "for rucksack in task3:\n",
    "    top = rucksack[:int(len(rucksack)/2)]\n",
    "    bottom = rucksack[int(len(rucksack)/2):]\n",
    "    for item in set(list(top)):\n",
    "        if item in set(list(bottom)):\n",
    "            if ord(item)-96 < 0:\n",
    "                score += ord(item)-38\n",
    "            else:\n",
    "                score += ord(item)-96\n",
    "                \n",
    "print(score)"
   ]
  },
  {
   "cell_type": "code",
   "execution_count": 8,
   "id": "04b51f38",
   "metadata": {},
   "outputs": [
    {
     "name": "stdout",
     "output_type": "stream",
     "text": [
      "2646\n"
     ]
    }
   ],
   "source": [
    "score = 0\n",
    "\n",
    "for i in range(int(len(task3)/3)):\n",
    "    item = (\"\".join(set(list(task3[i*3])).intersection(list(task3[i*3+1])).intersection(list(task3[i*3+2]))))\n",
    "    if ord(item)-96 < 0:\n",
    "        score += ord(item)-38\n",
    "    else:\n",
    "        score += ord(item)-96\n",
    "        \n",
    "print(score)"
   ]
  },
  {
   "cell_type": "code",
   "execution_count": null,
   "id": "01f4f8e1",
   "metadata": {},
   "outputs": [],
   "source": []
  }
 ],
 "metadata": {
  "kernelspec": {
   "display_name": "Python 3 (ipykernel)",
   "language": "python",
   "name": "python3"
  },
  "language_info": {
   "codemirror_mode": {
    "name": "ipython",
    "version": 3
   },
   "file_extension": ".py",
   "mimetype": "text/x-python",
   "name": "python",
   "nbconvert_exporter": "python",
   "pygments_lexer": "ipython3",
   "version": "3.10.6"
  }
 },
 "nbformat": 4,
 "nbformat_minor": 5
}
