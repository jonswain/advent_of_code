{
 "cells": [
  {
   "cell_type": "code",
   "execution_count": 95,
   "id": "2a45a8fa",
   "metadata": {},
   "outputs": [],
   "source": [
    "from pprint import pprint\n",
    "\n",
    "text = open('inputs/day11.txt').read()\n",
    "text.split('\\n')\n",
    "\n",
    "monkeys = []\n",
    "\n",
    "for i in range(0,55,7):\n",
    "    monkey_dict = {}\n",
    "    monkey_num = (text.split('\\n')[i].split()[1].strip(\":\"))\n",
    "    monkey_items = text.split('\\n')[i+1].split()[2:]\n",
    "    monkey_items = [int(num.strip(',')) for num in monkey_items]\n",
    "    \n",
    "    op_func = ((text.split('\\n')[i+2]).split()[-2])\n",
    "    \n",
    "    op_num = ((text.split('\\n')[i+2]).split()[-1])\n",
    "    if op_num == 'old':\n",
    "        op_num = 2\n",
    "        op_func = \"**\"\n",
    "    op_num = int(op_num)\n",
    "    \n",
    "    test = int((text.split('\\n')[i+3]).split()[-1])\n",
    "    test_true = int((text.split('\\n')[i+4]).split()[-1])\n",
    "    test_false = int((text.split('\\n')[i+5]).split()[-1])\n",
    "    \n",
    "    \n",
    "    monkey_dict['number'] = monkey_num\n",
    "    monkey_dict['items'] = monkey_items\n",
    "    monkey_dict['op_num'] = op_num\n",
    "    monkey_dict['op_func'] = op_func\n",
    "    monkey_dict['test'] = test\n",
    "    monkey_dict['test_true'] = test_true\n",
    "    monkey_dict['test_false'] = test_false\n",
    "    monkey_dict['activity'] = 0\n",
    "    \n",
    "    monkeys.append(monkey_dict)   "
   ]
  },
  {
   "cell_type": "code",
   "execution_count": 96,
   "id": "5d0f2713",
   "metadata": {},
   "outputs": [
    {
     "name": "stderr",
     "output_type": "stream",
     "text": [
      "100%|█████████████████████████████████████████| 20/20 [00:00<00:00, 8012.81it/s]\n"
     ]
    }
   ],
   "source": [
    "import math\n",
    "from tqdm import tqdm\n",
    "\n",
    "num_rounds = 20\n",
    "\n",
    "for round in tqdm(range(num_rounds)):\n",
    "    for monkey in monkeys:\n",
    "        for item in monkey['items']:\n",
    "            monkey['activity'] += 1\n",
    "        \n",
    "            if monkey['op_func'] == \"+\":\n",
    "                worry_level = item + monkey['op_num']\n",
    "            elif monkey['op_func'] == \"*\":\n",
    "                worry_level = item * monkey['op_num']\n",
    "            elif monkey['op_func'] == \"**\":\n",
    "                worry_level = item ** 2\n",
    "            \n",
    "            worry_level = math.floor(worry_level // 3)\n",
    "            \n",
    "            if worry_level % monkey['test'] == 0:\n",
    "\n",
    "                monkeys[monkey['test_true']]['items'].append(worry_level)\n",
    "\n",
    "            else:\n",
    "\n",
    "                monkeys[monkey['test_false']]['items'].append(worry_level)\n",
    "\n",
    "        monkey['items'] = []\n",
    "                \n",
    "\n",
    "active = []\n",
    "for monkey in monkeys:\n",
    "    active.append(monkey['activity'])"
   ]
  },
  {
   "cell_type": "code",
   "execution_count": 98,
   "id": "755962a4",
   "metadata": {},
   "outputs": [
    {
     "data": {
      "text/plain": [
       "151312"
      ]
     },
     "execution_count": 98,
     "metadata": {},
     "output_type": "execute_result"
    }
   ],
   "source": [
    "active.sort(reverse=True)\n",
    "active[0] * active[1]"
   ]
  },
  {
   "cell_type": "code",
   "execution_count": 99,
   "id": "3f195832",
   "metadata": {},
   "outputs": [
    {
     "data": {
      "text/plain": [
       "9699690"
      ]
     },
     "execution_count": 99,
     "metadata": {},
     "output_type": "execute_result"
    }
   ],
   "source": [
    "modulo = 1\n",
    "for monkey in monkeys:\n",
    "    modulo *= monkey['test']\n",
    "modulo"
   ]
  },
  {
   "cell_type": "code",
   "execution_count": 100,
   "id": "49e7b04d",
   "metadata": {},
   "outputs": [],
   "source": [
    "text = open('inputs/day11.txt').read()\n",
    "text.split('\\n')\n",
    "\n",
    "monkeys = []\n",
    "\n",
    "for i in range(0,55,7):\n",
    "    monkey_dict = {}\n",
    "    monkey_num = (text.split('\\n')[i].split()[1].strip(\":\"))\n",
    "    monkey_items = text.split('\\n')[i+1].split()[2:]\n",
    "    monkey_items = [int(num.strip(',')) for num in monkey_items]\n",
    "    \n",
    "    op_func = ((text.split('\\n')[i+2]).split()[-2])\n",
    "    \n",
    "    op_num = ((text.split('\\n')[i+2]).split()[-1])\n",
    "    if op_num == 'old':\n",
    "        op_num = 2\n",
    "        op_func = \"**\"\n",
    "    op_num = int(op_num)\n",
    "    \n",
    "    test = int((text.split('\\n')[i+3]).split()[-1])\n",
    "    test_true = int((text.split('\\n')[i+4]).split()[-1])\n",
    "    test_false = int((text.split('\\n')[i+5]).split()[-1])\n",
    "    \n",
    "    \n",
    "    monkey_dict['number'] = monkey_num\n",
    "    monkey_dict['items'] = monkey_items\n",
    "    monkey_dict['op_num'] = op_num\n",
    "    monkey_dict['op_func'] = op_func\n",
    "    monkey_dict['test'] = test\n",
    "    monkey_dict['test_true'] = test_true\n",
    "    monkey_dict['test_false'] = test_false\n",
    "    monkey_dict['activity'] = 0\n",
    "    \n",
    "    monkeys.append(monkey_dict)"
   ]
  },
  {
   "cell_type": "code",
   "execution_count": 101,
   "id": "658398db",
   "metadata": {},
   "outputs": [
    {
     "name": "stderr",
     "output_type": "stream",
     "text": [
      "100%|██████████████████████████████████| 10001/10001 [00:00<00:00, 29766.05it/s]\n"
     ]
    }
   ],
   "source": [
    "import math\n",
    "from tqdm import tqdm\n",
    "\n",
    "num_rounds = 10000\n",
    "\n",
    "for round in tqdm(range(num_rounds+1)):\n",
    "    for monkey in monkeys:\n",
    "        for item in monkey['items']:\n",
    "            monkey['activity'] += 1\n",
    "        \n",
    "            if monkey['op_func'] == \"+\":\n",
    "                worry_level = item + monkey['op_num']\n",
    "            elif monkey['op_func'] == \"*\":\n",
    "                worry_level = item * monkey['op_num']\n",
    "            elif monkey['op_func'] == \"**\":\n",
    "                worry_level = item * item\n",
    "            \n",
    "            worry_level = worry_level % modulo\n",
    "            \n",
    "            if worry_level % monkey['test'] == 0:\n",
    "                \n",
    "                monkeys[monkey['test_true']]['items'].append(worry_level)\n",
    "                \n",
    "            else:\n",
    "                \n",
    "                monkeys[monkey['test_false']]['items'].append(worry_level)\n",
    "\n",
    "        monkey['items'] = []\n",
    "                \n",
    "\n",
    "active = []\n",
    "for monkey in monkeys:\n",
    "    active.append(monkey['activity'])"
   ]
  },
  {
   "cell_type": "code",
   "execution_count": 92,
   "id": "5331d512",
   "metadata": {},
   "outputs": [
    {
     "data": {
      "text/plain": [
       "51390368487"
      ]
     },
     "execution_count": 92,
     "metadata": {},
     "output_type": "execute_result"
    }
   ],
   "source": [
    "active.sort(reverse=True)\n",
    "active[0] * active[1]"
   ]
  }
 ],
 "metadata": {
  "kernelspec": {
   "display_name": "Python 3 (ipykernel)",
   "language": "python",
   "name": "python3"
  },
  "language_info": {
   "codemirror_mode": {
    "name": "ipython",
    "version": 3
   },
   "file_extension": ".py",
   "mimetype": "text/x-python",
   "name": "python",
   "nbconvert_exporter": "python",
   "pygments_lexer": "ipython3",
   "version": "3.10.6"
  }
 },
 "nbformat": 4,
 "nbformat_minor": 5
}
