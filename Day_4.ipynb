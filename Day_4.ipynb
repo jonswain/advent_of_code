{
 "cells": [
  {
   "cell_type": "code",
   "execution_count": 1,
   "id": "5072fc19",
   "metadata": {},
   "outputs": [
    {
     "name": "stdout",
     "output_type": "stream",
     "text": [
      "485\n"
     ]
    }
   ],
   "source": [
    "total = 0\n",
    "for data in open('inputs/day4.txt'):\n",
    "    assign = data.split(',')\n",
    "    assign_1 = assign[0].split('-')\n",
    "    assign_2 = assign[1].split('-')\n",
    "    a_min = int(assign_1[0])\n",
    "    a_max = int(assign_1[1])\n",
    "    b_min = int(assign_2[0])\n",
    "    b_max = int(assign_2[1])\n",
    "\n",
    "    if (a_max <= b_max) & (a_min >= b_min):\n",
    "        total += 1\n",
    "            \n",
    "    elif (a_max >= b_max) & (a_min <= b_min):\n",
    "        total += 1\n",
    "            \n",
    "print(total)"
   ]
  },
  {
   "cell_type": "code",
   "execution_count": 2,
   "id": "5273c980",
   "metadata": {},
   "outputs": [
    {
     "name": "stdout",
     "output_type": "stream",
     "text": [
      "857\n"
     ]
    }
   ],
   "source": [
    "total = 0\n",
    "for data in open('inputs/day4.txt'):\n",
    "    assign = data.split(',')\n",
    "    assign_1 = assign[0].split('-')\n",
    "    assign_2 = assign[1].split('-')\n",
    "    a_min = int(assign_1[0])\n",
    "    a_max = int(assign_1[1])\n",
    "    b_min = int(assign_2[0])\n",
    "    b_max = int(assign_2[1])\n",
    "    \n",
    "    if (a_max >= b_min) & (a_max <= b_max):\n",
    "        total += 1\n",
    "        \n",
    "    elif (b_max >= a_min) & (b_max <= a_max):\n",
    "        total += 1\n",
    "    \n",
    "print(total)"
   ]
  },
  {
   "cell_type": "code",
   "execution_count": null,
   "id": "48267e5b",
   "metadata": {},
   "outputs": [],
   "source": []
  }
 ],
 "metadata": {
  "kernelspec": {
   "display_name": "Python 3 (ipykernel)",
   "language": "python",
   "name": "python3"
  },
  "language_info": {
   "codemirror_mode": {
    "name": "ipython",
    "version": 3
   },
   "file_extension": ".py",
   "mimetype": "text/x-python",
   "name": "python",
   "nbconvert_exporter": "python",
   "pygments_lexer": "ipython3",
   "version": "3.10.6"
  }
 },
 "nbformat": 4,
 "nbformat_minor": 5
}
