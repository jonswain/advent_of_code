{
 "cells": [
  {
   "cell_type": "code",
   "execution_count": 1,
   "id": "43653c78",
   "metadata": {},
   "outputs": [
    {
     "name": "stdout",
     "output_type": "stream",
     "text": [
      "Part 1 answer: 12740\n"
     ]
    }
   ],
   "source": [
    "cycle = 0\n",
    "value = 1\n",
    "to_sum= []\n",
    "\n",
    "for instruction in open('inputs/day10.txt'):\n",
    "    cycle +=1\n",
    "    if cycle % 40 == 20:\n",
    "        to_sum.append(value*cycle)\n",
    "    instruction = instruction.strip().split()\n",
    "    if len(instruction) > 1:\n",
    "        cycle +=1\n",
    "        if cycle % 40 == 20:\n",
    "            to_sum.append(value*cycle)\n",
    "        value += int(instruction[1])\n",
    "\n",
    "print(f\"Part 1 answer: {sum(to_sum)}\")"
   ]
  },
  {
   "cell_type": "code",
   "execution_count": 2,
   "id": "9dc1ed8b",
   "metadata": {},
   "outputs": [
    {
     "name": "stdout",
     "output_type": "stream",
     "text": [
      "###..###..###...##..###...##...##..####.\n",
      "#..#.#..#.#..#.#..#.#..#.#..#.#..#.#....\n",
      "#..#.###..#..#.#..#.#..#.#..#.#....###..\n",
      "###..#..#.###..####.###..####.#.##.#....\n",
      "#.#..#..#.#....#..#.#.#..#..#.#..#.#....\n",
      "#..#.###..#....#..#.#..#.#..#..###.#....\n"
     ]
    }
   ],
   "source": [
    "instructions = []\n",
    "\n",
    "for instruction in open('inputs/day10.txt'):\n",
    "    if len(instruction.split()) > 1:\n",
    "        instructions.append(0)\n",
    "        instructions.append(int(instruction.split()[1]))\n",
    "    else:\n",
    "        instructions.append(0)\n",
    "\n",
    "pixel = 0\n",
    "value = 1\n",
    "message = ''\n",
    "        \n",
    "for instruction in instructions:\n",
    "    if pixel % 40 in [value-1, value, value+1]:\n",
    "        message += '#'\n",
    "    else:\n",
    "        message += \".\"  \n",
    "    pixel += 1\n",
    "    value += instruction\n",
    "        \n",
    "print(message[:40])\n",
    "print(message[40:80])\n",
    "print(message[80:120])\n",
    "print(message[120:160])\n",
    "print(message[160:200])\n",
    "print(message[200:])"
   ]
  },
  {
   "cell_type": "code",
   "execution_count": null,
   "id": "4efe10c0",
   "metadata": {},
   "outputs": [],
   "source": []
  }
 ],
 "metadata": {
  "kernelspec": {
   "display_name": "Python 3 (ipykernel)",
   "language": "python",
   "name": "python3"
  },
  "language_info": {
   "codemirror_mode": {
    "name": "ipython",
    "version": 3
   },
   "file_extension": ".py",
   "mimetype": "text/x-python",
   "name": "python",
   "nbconvert_exporter": "python",
   "pygments_lexer": "ipython3",
   "version": "3.10.6"
  }
 },
 "nbformat": 4,
 "nbformat_minor": 5
}
