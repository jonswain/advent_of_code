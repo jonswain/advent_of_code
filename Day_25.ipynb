{
 "cells": [
  {
   "cell_type": "code",
   "execution_count": 3,
   "id": "1c5be02b",
   "metadata": {},
   "outputs": [
    {
     "data": {
      "text/plain": [
       "'1-0-0020'"
      ]
     },
     "execution_count": 3,
     "metadata": {},
     "output_type": "execute_result"
    }
   ],
   "source": [
    "day25 = (open('inputs/day25.txt').read())\n",
    "day25 = day25.split('\\n')\n",
    "day25[0]"
   ]
  },
  {
   "cell_type": "code",
   "execution_count": 6,
   "id": "8636d608",
   "metadata": {},
   "outputs": [],
   "source": [
    "def decode(num):\n",
    "    digits = list(num)\n",
    "    digits.reverse()\n",
    "    total = 0\n",
    "    for index, digit in enumerate(digits):\n",
    "        if digit.isdigit():\n",
    "            digit = int(digit)\n",
    "            total += digit * (5**index)\n",
    "        elif digit == '-':\n",
    "            total -= (5**index)\n",
    "        else:\n",
    "            total -= 2* (5**index)\n",
    "        \n",
    "    return total\n",
    "\n",
    "\n",
    "DIGITS = ((0, '0'), (1, '1'), (2, '2'), (-2, '='), (-1, '-'))\n",
    "\n",
    "def encode(number):\n",
    "    digits = dict(DIGITS)\n",
    "\n",
    "    if number == 0:\n",
    "        return ''\n",
    "\n",
    "    remainder = ((number + 2) % 5) - 2\n",
    "    quotient = (number + 2) // 5\n",
    "\n",
    "    return encode(quotient) + digits[remainder]"
   ]
  },
  {
   "cell_type": "code",
   "execution_count": 7,
   "id": "a0f63553",
   "metadata": {},
   "outputs": [
    {
     "name": "stdout",
     "output_type": "stream",
     "text": [
      "Part 1 answer: 2-0=11=-0-2-1==1=-22\n"
     ]
    }
   ],
   "source": [
    "fuel_needed = 0\n",
    "\n",
    "for line in day25:\n",
    "    number = decode(line)\n",
    "    fuel_needed += number\n",
    "\n",
    "print(f\"Part 1 answer: {encode(fuel_needed)}\")"
   ]
  },
  {
   "cell_type": "code",
   "execution_count": 15,
   "id": "4cf3e839",
   "metadata": {},
   "outputs": [
    {
     "data": {
      "text/plain": [
       "0"
      ]
     },
     "execution_count": 15,
     "metadata": {},
     "output_type": "execute_result"
    }
   ],
   "source": [
    "1 // 5"
   ]
  },
  {
   "cell_type": "code",
   "execution_count": null,
   "id": "555a2646",
   "metadata": {},
   "outputs": [],
   "source": []
  }
 ],
 "metadata": {
  "kernelspec": {
   "display_name": "Python 3 (ipykernel)",
   "language": "python",
   "name": "python3"
  },
  "language_info": {
   "codemirror_mode": {
    "name": "ipython",
    "version": 3
   },
   "file_extension": ".py",
   "mimetype": "text/x-python",
   "name": "python",
   "nbconvert_exporter": "python",
   "pygments_lexer": "ipython3",
   "version": "3.10.6"
  }
 },
 "nbformat": 4,
 "nbformat_minor": 5
}
